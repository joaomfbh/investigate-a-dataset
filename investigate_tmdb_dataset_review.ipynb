{
 "cells": [
  {
   "cell_type": "markdown",
   "metadata": {},
   "source": [
    "# Project: Investigate TMDB Movies Dataset\n",
    "\n",
    "## Table of Contents\n",
    "<ul>\n",
    "<li><a href=\"#intro\">Introduction</a></li>\n",
    "<li><a href=\"#functions\">Functions Python</a></li>\n",
    "<li><a href=\"#wrangling\">Data Wrangling</a></li>\n",
    "<li><a href=\"#eda\">Exploratory Data Analysis</a></li>\n",
    "<li><a href=\"#conclusions\">Conclusions</a></li>\n",
    "</ul>"
   ]
  },
  {
   "cell_type": "markdown",
   "metadata": {},
   "source": [
    "<a id='intro'></a>\n",
    "## Introduction\n",
    "\n",
    "The dataset is from the [TMDB](https://www.themoviedb.org/) website. He gather data from little less than 5.000 movies, with interesting fields like budget, revenue, runtime, genres and keywords.\n",
    "\n",
    "I plan to answer some questions like:\n",
    "1. Which gender is the most frequent?\n",
    "2. What is the average budget?\n",
    "3. What is the average revenue?\n",
    "4. Except english, What language is more frequently in the movies?\n",
    "5. Do high-budget movies have more or less producers involved? What about low budget films?\n",
    "6. Which genre is associated with the best average vote? And with the smallest?\n",
    "7. What is the characteristics of movies that have and do not have webpages?\n",
    "8. Do long runtime movies have low or high average votes?\n",
    "9. Which films are associated with the most used keyword?"
   ]
  },
  {
   "cell_type": "code",
   "execution_count": 1,
   "metadata": {},
   "outputs": [],
   "source": [
    "# Import packages to data analysis\n",
    "import pandas as pd\n",
    "import numpy as np\n",
    "import matplotlib.pyplot as plt\n",
    "from matplotlib.ticker import FuncFormatter\n",
    "import matplotlib.patches as mpatches\n",
    "import seaborn as sn\n",
    "import json\n",
    "import zipfile\n",
    "\n",
    "# Packages to use in get_language_codes func\n",
    "import requests\n",
    "import lxml.html as lh\n",
    "from bs4 import BeautifulSoup\n",
    "\n",
    "# Magic keywords and plot grid style\n",
    "%matplotlib inline\n",
    "sn.set_style('darkgrid')"
   ]
  },
  {
   "cell_type": "markdown",
   "metadata": {},
   "source": [
    "<a id='functions'></a>\n",
    "## Functions Python\n",
    "\n",
    "I see the oportunite to get names os languages from column original_language using 'scrap' method.\n",
    "Searching in google, i found the pattern of names in [ISO website](https://www.iso.org/iso-639-language-codes.html).<br>Also I got a function from Matplotlib website to format the y axis from a plot.\n",
    "\n",
    "The functions is described below.\n",
    "\n",
    "**Obs.** The references of website I visit to construct this functions is in references.txt file"
   ]
  },
  {
   "cell_type": "markdown",
   "metadata": {},
   "source": [
    "### Python scraping function"
   ]
  },
  {
   "cell_type": "code",
   "execution_count": 2,
   "metadata": {},
   "outputs": [],
   "source": [
    "def get_language_codes():    \n",
    "    \n",
    "    page = requests.get('http://www.loc.gov/standards/iso639-2/php/code_list.php')\n",
    "\n",
    "    # Store contents under doc\n",
    "    doc = lh.fromstring(page.content)\n",
    "\n",
    "    # Get all tr elements with atribute valign = top\n",
    "    # In the ISO website the main table is referenced by attribute valign top\n",
    "    tr_elements = doc.xpath(\"//tr[@valign='top']\")\n",
    "\n",
    "    # Create a list of tuples along empty list to store values for each row\n",
    "    list_values = []\n",
    "    for i in tr_elements[0]:\n",
    "        name = i.text_content()\n",
    "        list_values.append((name,[]))\n",
    "\n",
    "    # 0 is header. After 1 is values\n",
    "    for i in range(1,len(tr_elements)):\n",
    "        tr_rows = tr_elements[i]\n",
    "\n",
    "        # Len of rows must be equal of 5 (because exists five columns in main table)\n",
    "        if len(tr_rows) != 5:\n",
    "            break\n",
    "        \n",
    "        index_colum = 0\n",
    "\n",
    "        for j in tr_rows.iterchildren():\n",
    "            row_data = j.text_content()\n",
    "\n",
    "            list_values[index_colum][1].append(row_data)\n",
    "\n",
    "            index_colum+=1\n",
    "    \n",
    "    # Store data in dictionary to return a dataframe      \n",
    "    Dict={columns:rows for (columns,rows) in list_values}\n",
    "    df = pd.DataFrame(Dict)\n",
    "    \n",
    "    return df"
   ]
  },
  {
   "cell_type": "markdown",
   "metadata": {},
   "source": [
    "### Y Axis formatter function"
   ]
  },
  {
   "cell_type": "code",
   "execution_count": 3,
   "metadata": {},
   "outputs": [],
   "source": [
    "def millions(x, pos):\n",
    "    # The two args are the value and tick position'\n",
    "    return '$%1.1fM' % (x * 1e-6)"
   ]
  },
  {
   "cell_type": "markdown",
   "metadata": {},
   "source": [
    "<a id='wrangling'></a>\n",
    "## Data Wrangling\n",
    "\n",
    "### General Properties"
   ]
  },
  {
   "cell_type": "markdown",
   "metadata": {},
   "source": [
    "Load TMDB movie dataset"
   ]
  },
  {
   "cell_type": "code",
   "execution_count": 4,
   "metadata": {},
   "outputs": [],
   "source": [
    "with zipfile.ZipFile('tmdb-movie-metadata.zip', 'r') as tmdb_files:\n",
    "    tmdb_files.extractall()"
   ]
  },
  {
   "cell_type": "code",
   "execution_count": 5,
   "metadata": {},
   "outputs": [],
   "source": [
    "df_movies = pd.read_csv('tmdb_5000_movies.csv')"
   ]
  },
  {
   "cell_type": "code",
   "execution_count": 6,
   "metadata": {},
   "outputs": [
    {
     "data": {
      "text/html": [
       "<div>\n",
       "<style scoped>\n",
       "    .dataframe tbody tr th:only-of-type {\n",
       "        vertical-align: middle;\n",
       "    }\n",
       "\n",
       "    .dataframe tbody tr th {\n",
       "        vertical-align: top;\n",
       "    }\n",
       "\n",
       "    .dataframe thead th {\n",
       "        text-align: right;\n",
       "    }\n",
       "</style>\n",
       "<table border=\"1\" class=\"dataframe\">\n",
       "  <thead>\n",
       "    <tr style=\"text-align: right;\">\n",
       "      <th></th>\n",
       "      <th>budget</th>\n",
       "      <th>genres</th>\n",
       "      <th>homepage</th>\n",
       "      <th>id</th>\n",
       "      <th>keywords</th>\n",
       "      <th>original_language</th>\n",
       "      <th>original_title</th>\n",
       "      <th>overview</th>\n",
       "      <th>popularity</th>\n",
       "      <th>production_companies</th>\n",
       "      <th>production_countries</th>\n",
       "      <th>release_date</th>\n",
       "      <th>revenue</th>\n",
       "      <th>runtime</th>\n",
       "      <th>spoken_languages</th>\n",
       "      <th>status</th>\n",
       "      <th>tagline</th>\n",
       "      <th>title</th>\n",
       "      <th>vote_average</th>\n",
       "      <th>vote_count</th>\n",
       "    </tr>\n",
       "  </thead>\n",
       "  <tbody>\n",
       "    <tr>\n",
       "      <th>0</th>\n",
       "      <td>237000000</td>\n",
       "      <td>[{\"id\": 28, \"name\": \"Action\"}, {\"id\": 12, \"nam...</td>\n",
       "      <td>http://www.avatarmovie.com/</td>\n",
       "      <td>19995</td>\n",
       "      <td>[{\"id\": 1463, \"name\": \"culture clash\"}, {\"id\":...</td>\n",
       "      <td>en</td>\n",
       "      <td>Avatar</td>\n",
       "      <td>In the 22nd century, a paraplegic Marine is di...</td>\n",
       "      <td>150.437577</td>\n",
       "      <td>[{\"name\": \"Ingenious Film Partners\", \"id\": 289...</td>\n",
       "      <td>[{\"iso_3166_1\": \"US\", \"name\": \"United States o...</td>\n",
       "      <td>2009-12-10</td>\n",
       "      <td>2787965087</td>\n",
       "      <td>162.0</td>\n",
       "      <td>[{\"iso_639_1\": \"en\", \"name\": \"English\"}, {\"iso...</td>\n",
       "      <td>Released</td>\n",
       "      <td>Enter the World of Pandora.</td>\n",
       "      <td>Avatar</td>\n",
       "      <td>7.2</td>\n",
       "      <td>11800</td>\n",
       "    </tr>\n",
       "    <tr>\n",
       "      <th>1</th>\n",
       "      <td>300000000</td>\n",
       "      <td>[{\"id\": 12, \"name\": \"Adventure\"}, {\"id\": 14, \"...</td>\n",
       "      <td>http://disney.go.com/disneypictures/pirates/</td>\n",
       "      <td>285</td>\n",
       "      <td>[{\"id\": 270, \"name\": \"ocean\"}, {\"id\": 726, \"na...</td>\n",
       "      <td>en</td>\n",
       "      <td>Pirates of the Caribbean: At World's End</td>\n",
       "      <td>Captain Barbossa, long believed to be dead, ha...</td>\n",
       "      <td>139.082615</td>\n",
       "      <td>[{\"name\": \"Walt Disney Pictures\", \"id\": 2}, {\"...</td>\n",
       "      <td>[{\"iso_3166_1\": \"US\", \"name\": \"United States o...</td>\n",
       "      <td>2007-05-19</td>\n",
       "      <td>961000000</td>\n",
       "      <td>169.0</td>\n",
       "      <td>[{\"iso_639_1\": \"en\", \"name\": \"English\"}]</td>\n",
       "      <td>Released</td>\n",
       "      <td>At the end of the world, the adventure begins.</td>\n",
       "      <td>Pirates of the Caribbean: At World's End</td>\n",
       "      <td>6.9</td>\n",
       "      <td>4500</td>\n",
       "    </tr>\n",
       "    <tr>\n",
       "      <th>2</th>\n",
       "      <td>245000000</td>\n",
       "      <td>[{\"id\": 28, \"name\": \"Action\"}, {\"id\": 12, \"nam...</td>\n",
       "      <td>http://www.sonypictures.com/movies/spectre/</td>\n",
       "      <td>206647</td>\n",
       "      <td>[{\"id\": 470, \"name\": \"spy\"}, {\"id\": 818, \"name...</td>\n",
       "      <td>en</td>\n",
       "      <td>Spectre</td>\n",
       "      <td>A cryptic message from Bond’s past sends him o...</td>\n",
       "      <td>107.376788</td>\n",
       "      <td>[{\"name\": \"Columbia Pictures\", \"id\": 5}, {\"nam...</td>\n",
       "      <td>[{\"iso_3166_1\": \"GB\", \"name\": \"United Kingdom\"...</td>\n",
       "      <td>2015-10-26</td>\n",
       "      <td>880674609</td>\n",
       "      <td>148.0</td>\n",
       "      <td>[{\"iso_639_1\": \"fr\", \"name\": \"Fran\\u00e7ais\"},...</td>\n",
       "      <td>Released</td>\n",
       "      <td>A Plan No One Escapes</td>\n",
       "      <td>Spectre</td>\n",
       "      <td>6.3</td>\n",
       "      <td>4466</td>\n",
       "    </tr>\n",
       "    <tr>\n",
       "      <th>3</th>\n",
       "      <td>250000000</td>\n",
       "      <td>[{\"id\": 28, \"name\": \"Action\"}, {\"id\": 80, \"nam...</td>\n",
       "      <td>http://www.thedarkknightrises.com/</td>\n",
       "      <td>49026</td>\n",
       "      <td>[{\"id\": 849, \"name\": \"dc comics\"}, {\"id\": 853,...</td>\n",
       "      <td>en</td>\n",
       "      <td>The Dark Knight Rises</td>\n",
       "      <td>Following the death of District Attorney Harve...</td>\n",
       "      <td>112.312950</td>\n",
       "      <td>[{\"name\": \"Legendary Pictures\", \"id\": 923}, {\"...</td>\n",
       "      <td>[{\"iso_3166_1\": \"US\", \"name\": \"United States o...</td>\n",
       "      <td>2012-07-16</td>\n",
       "      <td>1084939099</td>\n",
       "      <td>165.0</td>\n",
       "      <td>[{\"iso_639_1\": \"en\", \"name\": \"English\"}]</td>\n",
       "      <td>Released</td>\n",
       "      <td>The Legend Ends</td>\n",
       "      <td>The Dark Knight Rises</td>\n",
       "      <td>7.6</td>\n",
       "      <td>9106</td>\n",
       "    </tr>\n",
       "    <tr>\n",
       "      <th>4</th>\n",
       "      <td>260000000</td>\n",
       "      <td>[{\"id\": 28, \"name\": \"Action\"}, {\"id\": 12, \"nam...</td>\n",
       "      <td>http://movies.disney.com/john-carter</td>\n",
       "      <td>49529</td>\n",
       "      <td>[{\"id\": 818, \"name\": \"based on novel\"}, {\"id\":...</td>\n",
       "      <td>en</td>\n",
       "      <td>John Carter</td>\n",
       "      <td>John Carter is a war-weary, former military ca...</td>\n",
       "      <td>43.926995</td>\n",
       "      <td>[{\"name\": \"Walt Disney Pictures\", \"id\": 2}]</td>\n",
       "      <td>[{\"iso_3166_1\": \"US\", \"name\": \"United States o...</td>\n",
       "      <td>2012-03-07</td>\n",
       "      <td>284139100</td>\n",
       "      <td>132.0</td>\n",
       "      <td>[{\"iso_639_1\": \"en\", \"name\": \"English\"}]</td>\n",
       "      <td>Released</td>\n",
       "      <td>Lost in our world, found in another.</td>\n",
       "      <td>John Carter</td>\n",
       "      <td>6.1</td>\n",
       "      <td>2124</td>\n",
       "    </tr>\n",
       "  </tbody>\n",
       "</table>\n",
       "</div>"
      ],
      "text/plain": [
       "      budget                                             genres  \\\n",
       "0  237000000  [{\"id\": 28, \"name\": \"Action\"}, {\"id\": 12, \"nam...   \n",
       "1  300000000  [{\"id\": 12, \"name\": \"Adventure\"}, {\"id\": 14, \"...   \n",
       "2  245000000  [{\"id\": 28, \"name\": \"Action\"}, {\"id\": 12, \"nam...   \n",
       "3  250000000  [{\"id\": 28, \"name\": \"Action\"}, {\"id\": 80, \"nam...   \n",
       "4  260000000  [{\"id\": 28, \"name\": \"Action\"}, {\"id\": 12, \"nam...   \n",
       "\n",
       "                                       homepage      id  \\\n",
       "0                   http://www.avatarmovie.com/   19995   \n",
       "1  http://disney.go.com/disneypictures/pirates/     285   \n",
       "2   http://www.sonypictures.com/movies/spectre/  206647   \n",
       "3            http://www.thedarkknightrises.com/   49026   \n",
       "4          http://movies.disney.com/john-carter   49529   \n",
       "\n",
       "                                            keywords original_language  \\\n",
       "0  [{\"id\": 1463, \"name\": \"culture clash\"}, {\"id\":...                en   \n",
       "1  [{\"id\": 270, \"name\": \"ocean\"}, {\"id\": 726, \"na...                en   \n",
       "2  [{\"id\": 470, \"name\": \"spy\"}, {\"id\": 818, \"name...                en   \n",
       "3  [{\"id\": 849, \"name\": \"dc comics\"}, {\"id\": 853,...                en   \n",
       "4  [{\"id\": 818, \"name\": \"based on novel\"}, {\"id\":...                en   \n",
       "\n",
       "                             original_title  \\\n",
       "0                                    Avatar   \n",
       "1  Pirates of the Caribbean: At World's End   \n",
       "2                                   Spectre   \n",
       "3                     The Dark Knight Rises   \n",
       "4                               John Carter   \n",
       "\n",
       "                                            overview  popularity  \\\n",
       "0  In the 22nd century, a paraplegic Marine is di...  150.437577   \n",
       "1  Captain Barbossa, long believed to be dead, ha...  139.082615   \n",
       "2  A cryptic message from Bond’s past sends him o...  107.376788   \n",
       "3  Following the death of District Attorney Harve...  112.312950   \n",
       "4  John Carter is a war-weary, former military ca...   43.926995   \n",
       "\n",
       "                                production_companies  \\\n",
       "0  [{\"name\": \"Ingenious Film Partners\", \"id\": 289...   \n",
       "1  [{\"name\": \"Walt Disney Pictures\", \"id\": 2}, {\"...   \n",
       "2  [{\"name\": \"Columbia Pictures\", \"id\": 5}, {\"nam...   \n",
       "3  [{\"name\": \"Legendary Pictures\", \"id\": 923}, {\"...   \n",
       "4        [{\"name\": \"Walt Disney Pictures\", \"id\": 2}]   \n",
       "\n",
       "                                production_countries release_date     revenue  \\\n",
       "0  [{\"iso_3166_1\": \"US\", \"name\": \"United States o...   2009-12-10  2787965087   \n",
       "1  [{\"iso_3166_1\": \"US\", \"name\": \"United States o...   2007-05-19   961000000   \n",
       "2  [{\"iso_3166_1\": \"GB\", \"name\": \"United Kingdom\"...   2015-10-26   880674609   \n",
       "3  [{\"iso_3166_1\": \"US\", \"name\": \"United States o...   2012-07-16  1084939099   \n",
       "4  [{\"iso_3166_1\": \"US\", \"name\": \"United States o...   2012-03-07   284139100   \n",
       "\n",
       "   runtime                                   spoken_languages    status  \\\n",
       "0    162.0  [{\"iso_639_1\": \"en\", \"name\": \"English\"}, {\"iso...  Released   \n",
       "1    169.0           [{\"iso_639_1\": \"en\", \"name\": \"English\"}]  Released   \n",
       "2    148.0  [{\"iso_639_1\": \"fr\", \"name\": \"Fran\\u00e7ais\"},...  Released   \n",
       "3    165.0           [{\"iso_639_1\": \"en\", \"name\": \"English\"}]  Released   \n",
       "4    132.0           [{\"iso_639_1\": \"en\", \"name\": \"English\"}]  Released   \n",
       "\n",
       "                                          tagline  \\\n",
       "0                     Enter the World of Pandora.   \n",
       "1  At the end of the world, the adventure begins.   \n",
       "2                           A Plan No One Escapes   \n",
       "3                                 The Legend Ends   \n",
       "4            Lost in our world, found in another.   \n",
       "\n",
       "                                      title  vote_average  vote_count  \n",
       "0                                    Avatar           7.2       11800  \n",
       "1  Pirates of the Caribbean: At World's End           6.9        4500  \n",
       "2                                   Spectre           6.3        4466  \n",
       "3                     The Dark Knight Rises           7.6        9106  \n",
       "4                               John Carter           6.1        2124  "
      ]
     },
     "execution_count": 6,
     "metadata": {},
     "output_type": "execute_result"
    }
   ],
   "source": [
    "df_movies.head()"
   ]
  },
  {
   "cell_type": "code",
   "execution_count": 7,
   "metadata": {},
   "outputs": [
    {
     "name": "stdout",
     "output_type": "stream",
     "text": [
      "<class 'pandas.core.frame.DataFrame'>\n",
      "RangeIndex: 4803 entries, 0 to 4802\n",
      "Data columns (total 20 columns):\n",
      " #   Column                Non-Null Count  Dtype  \n",
      "---  ------                --------------  -----  \n",
      " 0   budget                4803 non-null   int64  \n",
      " 1   genres                4803 non-null   object \n",
      " 2   homepage              1712 non-null   object \n",
      " 3   id                    4803 non-null   int64  \n",
      " 4   keywords              4803 non-null   object \n",
      " 5   original_language     4803 non-null   object \n",
      " 6   original_title        4803 non-null   object \n",
      " 7   overview              4800 non-null   object \n",
      " 8   popularity            4803 non-null   float64\n",
      " 9   production_companies  4803 non-null   object \n",
      " 10  production_countries  4803 non-null   object \n",
      " 11  release_date          4802 non-null   object \n",
      " 12  revenue               4803 non-null   int64  \n",
      " 13  runtime               4801 non-null   float64\n",
      " 14  spoken_languages      4803 non-null   object \n",
      " 15  status                4803 non-null   object \n",
      " 16  tagline               3959 non-null   object \n",
      " 17  title                 4803 non-null   object \n",
      " 18  vote_average          4803 non-null   float64\n",
      " 19  vote_count            4803 non-null   int64  \n",
      "dtypes: float64(3), int64(4), object(13)\n",
      "memory usage: 750.6+ KB\n"
     ]
    }
   ],
   "source": [
    "df_movies.info()"
   ]
  },
  {
   "cell_type": "markdown",
   "metadata": {},
   "source": [
    "### Data Cleaning"
   ]
  },
  {
   "cell_type": "markdown",
   "metadata": {},
   "source": [
    "### Some problemns:\n",
    "\n",
    "1. JSON content must be prepared. So i decided split json columns from the main movies dataset to better data visualization. I sended the json to dataframe df_json and when I need to use some json data, I merge with the movies main dataset; <a href=\"#json\">Go to</a>\n",
    "2. Many columns with null values; <a href=\"#null_values\">Go to</a>\n",
    "3. Datatype in some columns is not suitable; <a href=\"#datatypes\">Go to</a>\n",
    "4. Create new fields. <a href=\"#new_fields\">Go to</a>"
   ]
  },
  {
   "cell_type": "markdown",
   "metadata": {},
   "source": [
    "<a id='json'></a>\n",
    "#### Prepare JSON content"
   ]
  },
  {
   "cell_type": "code",
   "execution_count": 8,
   "metadata": {},
   "outputs": [],
   "source": [
    "json_columns = ['genres', 'keywords', 'production_countries', 'production_companies', 'spoken_languages']\n",
    "\n",
    "# Decode json content\n",
    "for col in json_columns:\n",
    "    df_movies[col] = df_movies[col].apply(json.loads)\n",
    "    \n",
    "# Include movie id field to use this like index key in merged dataframes (method keys in pd.concat)\n",
    "df_json = df_movies[['id','genres', 'keywords', 'production_countries', 'production_companies', 'spoken_languages']].copy()\n",
    "\n",
    "# Rename id movie to differ with id from json columns\n",
    "df_json.rename(columns={'id':'movie_id'}, inplace=True)\n",
    "\n",
    "# Separete the json columns from main dataset to better analysis\n",
    "df_movies.drop(columns=json_columns, inplace=True)"
   ]
  },
  {
   "cell_type": "markdown",
   "metadata": {},
   "source": [
    "Drop columns that i'll not use to answer my questions"
   ]
  },
  {
   "cell_type": "code",
   "execution_count": 9,
   "metadata": {},
   "outputs": [],
   "source": [
    "df_movies.drop(columns=['overview','tagline'], inplace=True)"
   ]
  },
  {
   "cell_type": "markdown",
   "metadata": {},
   "source": [
    "Check for duplicates"
   ]
  },
  {
   "cell_type": "code",
   "execution_count": 10,
   "metadata": {},
   "outputs": [
    {
     "data": {
      "text/plain": [
       "0"
      ]
     },
     "execution_count": 10,
     "metadata": {},
     "output_type": "execute_result"
    }
   ],
   "source": [
    "df_movies.duplicated().sum()"
   ]
  },
  {
   "cell_type": "markdown",
   "metadata": {},
   "source": [
    "<a id='null_values'></a>\n",
    "#### Columns with null values"
   ]
  },
  {
   "cell_type": "markdown",
   "metadata": {},
   "source": [
    "**- Homepage column**"
   ]
  },
  {
   "cell_type": "markdown",
   "metadata": {},
   "source": [
    "Transform homepage field: yes if filled with webpage path, no if NaN"
   ]
  },
  {
   "cell_type": "code",
   "execution_count": 11,
   "metadata": {},
   "outputs": [],
   "source": [
    "df_movies['homepage'].fillna(value='No', inplace=True)\n",
    "\n",
    "for i,j in enumerate(df_movies['homepage']):\n",
    "    if j != 'No':\n",
    "        df_movies.replace(value='Yes',to_replace=df_movies.iloc[i,1],inplace=True)"
   ]
  },
  {
   "cell_type": "markdown",
   "metadata": {},
   "source": [
    "Check transformed homepage field"
   ]
  },
  {
   "cell_type": "code",
   "execution_count": 12,
   "metadata": {},
   "outputs": [
    {
     "data": {
      "text/plain": [
       "0"
      ]
     },
     "execution_count": 12,
     "metadata": {},
     "output_type": "execute_result"
    }
   ],
   "source": [
    "df_movies['homepage'].isnull().sum()"
   ]
  },
  {
   "cell_type": "markdown",
   "metadata": {},
   "source": [
    "**- Runtime column**"
   ]
  },
  {
   "cell_type": "markdown",
   "metadata": {},
   "source": [
    "Get runtime mean"
   ]
  },
  {
   "cell_type": "code",
   "execution_count": 13,
   "metadata": {},
   "outputs": [
    {
     "data": {
      "text/plain": [
       "106"
      ]
     },
     "execution_count": 13,
     "metadata": {},
     "output_type": "execute_result"
    }
   ],
   "source": [
    "rnt_mean = df_movies['runtime'].mean().astype(int)\n",
    "rnt_mean"
   ]
  },
  {
   "cell_type": "markdown",
   "metadata": {},
   "source": [
    "Fill null values in runtime with the runtime mean"
   ]
  },
  {
   "cell_type": "code",
   "execution_count": 14,
   "metadata": {},
   "outputs": [],
   "source": [
    "df_movies['runtime'].fillna(value=rnt_mean, inplace=True)"
   ]
  },
  {
   "cell_type": "markdown",
   "metadata": {},
   "source": [
    "Check for nulls"
   ]
  },
  {
   "cell_type": "code",
   "execution_count": 15,
   "metadata": {},
   "outputs": [
    {
     "data": {
      "text/plain": [
       "0"
      ]
     },
     "execution_count": 15,
     "metadata": {},
     "output_type": "execute_result"
    }
   ],
   "source": [
    "df_movies['runtime'].isnull().sum()"
   ]
  },
  {
   "cell_type": "markdown",
   "metadata": {},
   "source": [
    "**- Check if istill have null values. If yes, drop the row**"
   ]
  },
  {
   "cell_type": "code",
   "execution_count": 16,
   "metadata": {},
   "outputs": [
    {
     "data": {
      "text/plain": [
       "budget               0\n",
       "homepage             0\n",
       "id                   0\n",
       "original_language    0\n",
       "original_title       0\n",
       "popularity           0\n",
       "release_date         1\n",
       "revenue              0\n",
       "runtime              0\n",
       "status               0\n",
       "title                0\n",
       "vote_average         0\n",
       "vote_count           0\n",
       "dtype: int64"
      ]
     },
     "execution_count": 16,
     "metadata": {},
     "output_type": "execute_result"
    }
   ],
   "source": [
    "df_movies.isnull().sum()"
   ]
  },
  {
   "cell_type": "markdown",
   "metadata": {},
   "source": [
    "One row in release_date field still null, then drop"
   ]
  },
  {
   "cell_type": "code",
   "execution_count": 17,
   "metadata": {},
   "outputs": [],
   "source": [
    "df_movies.dropna(inplace=True)"
   ]
  },
  {
   "cell_type": "markdown",
   "metadata": {},
   "source": [
    "Check again for null values"
   ]
  },
  {
   "cell_type": "code",
   "execution_count": 18,
   "metadata": {
    "scrolled": true
   },
   "outputs": [
    {
     "data": {
      "text/plain": [
       "budget               0\n",
       "homepage             0\n",
       "id                   0\n",
       "original_language    0\n",
       "original_title       0\n",
       "popularity           0\n",
       "release_date         0\n",
       "revenue              0\n",
       "runtime              0\n",
       "status               0\n",
       "title                0\n",
       "vote_average         0\n",
       "vote_count           0\n",
       "dtype: int64"
      ]
     },
     "execution_count": 18,
     "metadata": {},
     "output_type": "execute_result"
    }
   ],
   "source": [
    "df_movies.isnull().sum()"
   ]
  },
  {
   "cell_type": "markdown",
   "metadata": {},
   "source": [
    "<a id='datatypes'></a>\n",
    "**3. Datatype in some columns is not suitable**"
   ]
  },
  {
   "cell_type": "code",
   "execution_count": 19,
   "metadata": {},
   "outputs": [],
   "source": [
    "df_movies.budget = df_movies.budget.astype(float)\n",
    "df_movies.revenue = df_movies.revenue.astype(float)\n",
    "df_movies.runtime = df_movies.runtime.astype(int)"
   ]
  },
  {
   "cell_type": "markdown",
   "metadata": {},
   "source": [
    "<a id='new_fields'></a>\n",
    "**4. Create new fields**"
   ]
  },
  {
   "cell_type": "markdown",
   "metadata": {},
   "source": [
    "**- Year from date**"
   ]
  },
  {
   "cell_type": "code",
   "execution_count": 20,
   "metadata": {},
   "outputs": [],
   "source": [
    "# Extract year from date\n",
    "for i in df_movies.release_date:\n",
    "    df_movies['release_year'] = df_movies['release_date'].apply(lambda x: x.split('-')[0])\n",
    "\n",
    "# Convert data field and release year field\n",
    "df_movies.release_date = pd.to_datetime(df_movies['release_date'], format='%Y-%m-%d')\n",
    "df_movies.release_year = df_movies.release_year.astype(int)"
   ]
  },
  {
   "cell_type": "markdown",
   "metadata": {},
   "source": [
    "**- English name of language**"
   ]
  },
  {
   "cell_type": "markdown",
   "metadata": {},
   "source": [
    "Transform original_language field more friendly.\n",
    "\n",
    "With scrap python, scrap the content from ISO website to rename the acronyms from original_language"
   ]
  },
  {
   "cell_type": "code",
   "execution_count": 21,
   "metadata": {},
   "outputs": [],
   "source": [
    "df_lang_codes = get_language_codes()"
   ]
  },
  {
   "cell_type": "code",
   "execution_count": 22,
   "metadata": {},
   "outputs": [
    {
     "data": {
      "text/html": [
       "<div>\n",
       "<style scoped>\n",
       "    .dataframe tbody tr th:only-of-type {\n",
       "        vertical-align: middle;\n",
       "    }\n",
       "\n",
       "    .dataframe tbody tr th {\n",
       "        vertical-align: top;\n",
       "    }\n",
       "\n",
       "    .dataframe thead th {\n",
       "        text-align: right;\n",
       "    }\n",
       "</style>\n",
       "<table border=\"1\" class=\"dataframe\">\n",
       "  <thead>\n",
       "    <tr style=\"text-align: right;\">\n",
       "      <th></th>\n",
       "      <th>ISO 639-2 Code</th>\n",
       "      <th>ISO 639-1 Code</th>\n",
       "      <th>English name of Language</th>\n",
       "      <th>French name of Language</th>\n",
       "      <th>German name of Language</th>\n",
       "    </tr>\n",
       "  </thead>\n",
       "  <tbody>\n",
       "    <tr>\n",
       "      <th>0</th>\n",
       "      <td>aar</td>\n",
       "      <td>aa</td>\n",
       "      <td>Afar</td>\n",
       "      <td>afar</td>\n",
       "      <td>Danakil-Sprache</td>\n",
       "    </tr>\n",
       "    <tr>\n",
       "      <th>1</th>\n",
       "      <td>abk</td>\n",
       "      <td>ab</td>\n",
       "      <td>Abkhazian</td>\n",
       "      <td>abkhaze</td>\n",
       "      <td>Abchasisch</td>\n",
       "    </tr>\n",
       "    <tr>\n",
       "      <th>2</th>\n",
       "      <td>ace</td>\n",
       "      <td></td>\n",
       "      <td>Achinese</td>\n",
       "      <td>aceh</td>\n",
       "      <td>Aceh-Sprache</td>\n",
       "    </tr>\n",
       "    <tr>\n",
       "      <th>3</th>\n",
       "      <td>ach</td>\n",
       "      <td></td>\n",
       "      <td>Acoli</td>\n",
       "      <td>acoli</td>\n",
       "      <td>Acholi-Sprache</td>\n",
       "    </tr>\n",
       "    <tr>\n",
       "      <th>4</th>\n",
       "      <td>ada</td>\n",
       "      <td></td>\n",
       "      <td>Adangme</td>\n",
       "      <td>adangme</td>\n",
       "      <td>Adangme-Sprache</td>\n",
       "    </tr>\n",
       "  </tbody>\n",
       "</table>\n",
       "</div>"
      ],
      "text/plain": [
       "  ISO 639-2 Code ISO 639-1 Code English name of Language  \\\n",
       "0            aar             aa                     Afar   \n",
       "1            abk             ab                Abkhazian   \n",
       "2            ace                                Achinese   \n",
       "3            ach                                   Acoli   \n",
       "4            ada                                 Adangme   \n",
       "\n",
       "  French name of Language German name of Language  \n",
       "0                    afar         Danakil-Sprache  \n",
       "1                 abkhaze              Abchasisch  \n",
       "2                    aceh            Aceh-Sprache  \n",
       "3                   acoli          Acholi-Sprache  \n",
       "4                 adangme         Adangme-Sprache  "
      ]
     },
     "execution_count": 22,
     "metadata": {},
     "output_type": "execute_result"
    }
   ],
   "source": [
    "df_lang_codes.head()"
   ]
  },
  {
   "cell_type": "markdown",
   "metadata": {},
   "source": [
    "Cleaning the ISO languages dataset"
   ]
  },
  {
   "cell_type": "code",
   "execution_count": 23,
   "metadata": {},
   "outputs": [],
   "source": [
    "# Drop fields tath I'll not use\n",
    "df_lang_codes.drop(columns=['ISO 639-2 Code','French name of Language','German name of Language'], inplace=True)\n",
    "\n",
    "# Rename columns to better view\n",
    "df_lang_codes.rename(columns=lambda x: x.lower().replace(' ','_'),inplace=True)\n",
    "df_lang_codes.rename(columns=lambda x: x.replace('-',''),inplace=True)\n",
    "\n",
    "# this character comes from html parser in scrap function, then I remove it\n",
    "df_lang_codes = df_lang_codes.query(\"iso_6391_code != '\\xa0'\").copy()\n",
    "\n",
    "# Drop duplicates\n",
    "df_lang_codes.drop_duplicates(inplace=True)"
   ]
  },
  {
   "cell_type": "code",
   "execution_count": 24,
   "metadata": {},
   "outputs": [
    {
     "name": "stdout",
     "output_type": "stream",
     "text": [
      "<class 'pandas.core.frame.DataFrame'>\n",
      "Int64Index: 184 entries, 0 to 503\n",
      "Data columns (total 2 columns):\n",
      " #   Column                    Non-Null Count  Dtype \n",
      "---  ------                    --------------  ----- \n",
      " 0   iso_6391_code             184 non-null    object\n",
      " 1   english_name_of_language  184 non-null    object\n",
      "dtypes: object(2)\n",
      "memory usage: 4.3+ KB\n"
     ]
    }
   ],
   "source": [
    "df_lang_codes.info()"
   ]
  },
  {
   "cell_type": "code",
   "execution_count": 25,
   "metadata": {},
   "outputs": [],
   "source": [
    "# include new field in df_movies\n",
    "df_movies = pd.merge(df_movies, df_lang_codes, left_on='original_language', right_on='iso_6391_code', how='left')\n",
    "\n",
    "# Drop extra columns from merge\n",
    "df_movies.drop(columns='iso_6391_code',inplace=True)"
   ]
  },
  {
   "cell_type": "markdown",
   "metadata": {},
   "source": [
    "Check if field is ok in df_movies"
   ]
  },
  {
   "cell_type": "code",
   "execution_count": 26,
   "metadata": {},
   "outputs": [
    {
     "data": {
      "text/plain": [
       "budget                       0\n",
       "homepage                     0\n",
       "id                           0\n",
       "original_language            0\n",
       "original_title               0\n",
       "popularity                   0\n",
       "release_date                 0\n",
       "revenue                      0\n",
       "runtime                      0\n",
       "status                       0\n",
       "title                        0\n",
       "vote_average                 0\n",
       "vote_count                   0\n",
       "release_year                 0\n",
       "english_name_of_language    13\n",
       "dtype: int64"
      ]
     },
     "execution_count": 26,
     "metadata": {},
     "output_type": "execute_result"
    }
   ],
   "source": [
    "df_movies.isnull().sum()"
   ]
  },
  {
   "cell_type": "markdown",
   "metadata": {},
   "source": [
    "Found 13 null values. I need to check to decide if I remove rows or fill"
   ]
  },
  {
   "cell_type": "code",
   "execution_count": 27,
   "metadata": {
    "scrolled": true
   },
   "outputs": [
    {
     "data": {
      "text/html": [
       "<div>\n",
       "<style scoped>\n",
       "    .dataframe tbody tr th:only-of-type {\n",
       "        vertical-align: middle;\n",
       "    }\n",
       "\n",
       "    .dataframe tbody tr th {\n",
       "        vertical-align: top;\n",
       "    }\n",
       "\n",
       "    .dataframe thead th {\n",
       "        text-align: right;\n",
       "    }\n",
       "</style>\n",
       "<table border=\"1\" class=\"dataframe\">\n",
       "  <thead>\n",
       "    <tr style=\"text-align: right;\">\n",
       "      <th></th>\n",
       "      <th>budget</th>\n",
       "      <th>homepage</th>\n",
       "      <th>id</th>\n",
       "      <th>original_language</th>\n",
       "      <th>original_title</th>\n",
       "      <th>popularity</th>\n",
       "      <th>release_date</th>\n",
       "      <th>revenue</th>\n",
       "      <th>runtime</th>\n",
       "      <th>status</th>\n",
       "      <th>title</th>\n",
       "      <th>vote_average</th>\n",
       "      <th>vote_count</th>\n",
       "      <th>release_year</th>\n",
       "      <th>english_name_of_language</th>\n",
       "    </tr>\n",
       "  </thead>\n",
       "  <tbody>\n",
       "    <tr>\n",
       "      <th>1357</th>\n",
       "      <td>36000000.0</td>\n",
       "      <td>No</td>\n",
       "      <td>365222</td>\n",
       "      <td>cn</td>\n",
       "      <td>葉問3</td>\n",
       "      <td>19.167377</td>\n",
       "      <td>2015-12-19</td>\n",
       "      <td>156844753.0</td>\n",
       "      <td>105</td>\n",
       "      <td>Released</td>\n",
       "      <td>Ip Man 3</td>\n",
       "      <td>6.5</td>\n",
       "      <td>379</td>\n",
       "      <td>2015</td>\n",
       "      <td>NaN</td>\n",
       "    </tr>\n",
       "    <tr>\n",
       "      <th>1955</th>\n",
       "      <td>25000000.0</td>\n",
       "      <td>No</td>\n",
       "      <td>290864</td>\n",
       "      <td>cn</td>\n",
       "      <td>一個人的武林</td>\n",
       "      <td>6.895866</td>\n",
       "      <td>2014-10-31</td>\n",
       "      <td>0.0</td>\n",
       "      <td>100</td>\n",
       "      <td>Released</td>\n",
       "      <td>Kung Fu Jungle</td>\n",
       "      <td>6.5</td>\n",
       "      <td>114</td>\n",
       "      <td>2014</td>\n",
       "      <td>NaN</td>\n",
       "    </tr>\n",
       "    <tr>\n",
       "      <th>2013</th>\n",
       "      <td>23000000.0</td>\n",
       "      <td>Yes</td>\n",
       "      <td>30596</td>\n",
       "      <td>cn</td>\n",
       "      <td>十月圍城</td>\n",
       "      <td>7.876883</td>\n",
       "      <td>2009-12-18</td>\n",
       "      <td>5837674.0</td>\n",
       "      <td>139</td>\n",
       "      <td>Released</td>\n",
       "      <td>Bodyguards and Assassins</td>\n",
       "      <td>6.5</td>\n",
       "      <td>57</td>\n",
       "      <td>2009</td>\n",
       "      <td>NaN</td>\n",
       "    </tr>\n",
       "    <tr>\n",
       "      <th>2184</th>\n",
       "      <td>20000000.0</td>\n",
       "      <td>No</td>\n",
       "      <td>9470</td>\n",
       "      <td>cn</td>\n",
       "      <td>功夫</td>\n",
       "      <td>13.658985</td>\n",
       "      <td>2004-02-10</td>\n",
       "      <td>100914445.0</td>\n",
       "      <td>99</td>\n",
       "      <td>Released</td>\n",
       "      <td>Kung Fu Hustle</td>\n",
       "      <td>7.2</td>\n",
       "      <td>831</td>\n",
       "      <td>2004</td>\n",
       "      <td>NaN</td>\n",
       "    </tr>\n",
       "    <tr>\n",
       "      <th>2262</th>\n",
       "      <td>0.0</td>\n",
       "      <td>No</td>\n",
       "      <td>13688</td>\n",
       "      <td>cn</td>\n",
       "      <td>長江七號</td>\n",
       "      <td>12.373248</td>\n",
       "      <td>2008-01-30</td>\n",
       "      <td>47301471.0</td>\n",
       "      <td>86</td>\n",
       "      <td>Released</td>\n",
       "      <td>CJ7</td>\n",
       "      <td>6.1</td>\n",
       "      <td>107</td>\n",
       "      <td>2008</td>\n",
       "      <td>NaN</td>\n",
       "    </tr>\n",
       "    <tr>\n",
       "      <th>2309</th>\n",
       "      <td>0.0</td>\n",
       "      <td>No</td>\n",
       "      <td>244339</td>\n",
       "      <td>cn</td>\n",
       "      <td>逃出生天</td>\n",
       "      <td>1.583918</td>\n",
       "      <td>2013-03-10</td>\n",
       "      <td>0.0</td>\n",
       "      <td>107</td>\n",
       "      <td>Released</td>\n",
       "      <td>Out of Inferno</td>\n",
       "      <td>5.8</td>\n",
       "      <td>11</td>\n",
       "      <td>2013</td>\n",
       "      <td>NaN</td>\n",
       "    </tr>\n",
       "    <tr>\n",
       "      <th>2787</th>\n",
       "      <td>12000000.0</td>\n",
       "      <td>No</td>\n",
       "      <td>62204</td>\n",
       "      <td>xx</td>\n",
       "      <td>La Guerre du feu</td>\n",
       "      <td>6.537986</td>\n",
       "      <td>1981-12-15</td>\n",
       "      <td>55260558.0</td>\n",
       "      <td>100</td>\n",
       "      <td>Released</td>\n",
       "      <td>Quest for Fire</td>\n",
       "      <td>7.1</td>\n",
       "      <td>109</td>\n",
       "      <td>1981</td>\n",
       "      <td>NaN</td>\n",
       "    </tr>\n",
       "    <tr>\n",
       "      <th>3099</th>\n",
       "      <td>0.0</td>\n",
       "      <td>No</td>\n",
       "      <td>11770</td>\n",
       "      <td>cn</td>\n",
       "      <td>少林足球</td>\n",
       "      <td>17.547680</td>\n",
       "      <td>2001-07-12</td>\n",
       "      <td>42776760.0</td>\n",
       "      <td>113</td>\n",
       "      <td>Released</td>\n",
       "      <td>Shaolin Soccer</td>\n",
       "      <td>6.6</td>\n",
       "      <td>491</td>\n",
       "      <td>2001</td>\n",
       "      <td>NaN</td>\n",
       "    </tr>\n",
       "    <tr>\n",
       "      <th>3309</th>\n",
       "      <td>7500000.0</td>\n",
       "      <td>No</td>\n",
       "      <td>33542</td>\n",
       "      <td>cn</td>\n",
       "      <td>紅番區</td>\n",
       "      <td>17.318839</td>\n",
       "      <td>1995-01-30</td>\n",
       "      <td>32392047.0</td>\n",
       "      <td>91</td>\n",
       "      <td>Released</td>\n",
       "      <td>Rumble in the Bronx</td>\n",
       "      <td>6.5</td>\n",
       "      <td>240</td>\n",
       "      <td>1995</td>\n",
       "      <td>NaN</td>\n",
       "    </tr>\n",
       "    <tr>\n",
       "      <th>3400</th>\n",
       "      <td>0.0</td>\n",
       "      <td>No</td>\n",
       "      <td>277519</td>\n",
       "      <td>cn</td>\n",
       "      <td>Z 風暴</td>\n",
       "      <td>0.542814</td>\n",
       "      <td>2014-06-19</td>\n",
       "      <td>0.0</td>\n",
       "      <td>92</td>\n",
       "      <td>Released</td>\n",
       "      <td>Z Storm</td>\n",
       "      <td>5.8</td>\n",
       "      <td>5</td>\n",
       "      <td>2014</td>\n",
       "      <td>NaN</td>\n",
       "    </tr>\n",
       "    <tr>\n",
       "      <th>3463</th>\n",
       "      <td>12716953.0</td>\n",
       "      <td>No</td>\n",
       "      <td>10622</td>\n",
       "      <td>cn</td>\n",
       "      <td>一個好人</td>\n",
       "      <td>7.077505</td>\n",
       "      <td>1997-01-31</td>\n",
       "      <td>18814720.0</td>\n",
       "      <td>113</td>\n",
       "      <td>Released</td>\n",
       "      <td>Mr. Nice Guy</td>\n",
       "      <td>6.3</td>\n",
       "      <td>128</td>\n",
       "      <td>1997</td>\n",
       "      <td>NaN</td>\n",
       "    </tr>\n",
       "    <tr>\n",
       "      <th>3714</th>\n",
       "      <td>4500000.0</td>\n",
       "      <td>No</td>\n",
       "      <td>13807</td>\n",
       "      <td>cn</td>\n",
       "      <td>放‧逐</td>\n",
       "      <td>8.486390</td>\n",
       "      <td>2006-09-06</td>\n",
       "      <td>0.0</td>\n",
       "      <td>110</td>\n",
       "      <td>Released</td>\n",
       "      <td>Exiled</td>\n",
       "      <td>7.0</td>\n",
       "      <td>46</td>\n",
       "      <td>2006</td>\n",
       "      <td>NaN</td>\n",
       "    </tr>\n",
       "    <tr>\n",
       "      <th>4078</th>\n",
       "      <td>0.0</td>\n",
       "      <td>No</td>\n",
       "      <td>12207</td>\n",
       "      <td>cn</td>\n",
       "      <td>醉拳二</td>\n",
       "      <td>15.046612</td>\n",
       "      <td>1994-02-03</td>\n",
       "      <td>0.0</td>\n",
       "      <td>102</td>\n",
       "      <td>Released</td>\n",
       "      <td>The Legend of Drunken Master</td>\n",
       "      <td>7.2</td>\n",
       "      <td>242</td>\n",
       "      <td>1994</td>\n",
       "      <td>NaN</td>\n",
       "    </tr>\n",
       "  </tbody>\n",
       "</table>\n",
       "</div>"
      ],
      "text/plain": [
       "          budget homepage      id original_language    original_title  \\\n",
       "1357  36000000.0       No  365222                cn               葉問3   \n",
       "1955  25000000.0       No  290864                cn            一個人的武林   \n",
       "2013  23000000.0      Yes   30596                cn              十月圍城   \n",
       "2184  20000000.0       No    9470                cn                功夫   \n",
       "2262         0.0       No   13688                cn              長江七號   \n",
       "2309         0.0       No  244339                cn              逃出生天   \n",
       "2787  12000000.0       No   62204                xx  La Guerre du feu   \n",
       "3099         0.0       No   11770                cn              少林足球   \n",
       "3309   7500000.0       No   33542                cn               紅番區   \n",
       "3400         0.0       No  277519                cn              Z 風暴   \n",
       "3463  12716953.0       No   10622                cn              一個好人   \n",
       "3714   4500000.0       No   13807                cn               放‧逐   \n",
       "4078         0.0       No   12207                cn               醉拳二   \n",
       "\n",
       "      popularity release_date      revenue  runtime    status  \\\n",
       "1357   19.167377   2015-12-19  156844753.0      105  Released   \n",
       "1955    6.895866   2014-10-31          0.0      100  Released   \n",
       "2013    7.876883   2009-12-18    5837674.0      139  Released   \n",
       "2184   13.658985   2004-02-10  100914445.0       99  Released   \n",
       "2262   12.373248   2008-01-30   47301471.0       86  Released   \n",
       "2309    1.583918   2013-03-10          0.0      107  Released   \n",
       "2787    6.537986   1981-12-15   55260558.0      100  Released   \n",
       "3099   17.547680   2001-07-12   42776760.0      113  Released   \n",
       "3309   17.318839   1995-01-30   32392047.0       91  Released   \n",
       "3400    0.542814   2014-06-19          0.0       92  Released   \n",
       "3463    7.077505   1997-01-31   18814720.0      113  Released   \n",
       "3714    8.486390   2006-09-06          0.0      110  Released   \n",
       "4078   15.046612   1994-02-03          0.0      102  Released   \n",
       "\n",
       "                             title  vote_average  vote_count  release_year  \\\n",
       "1357                      Ip Man 3           6.5         379          2015   \n",
       "1955                Kung Fu Jungle           6.5         114          2014   \n",
       "2013      Bodyguards and Assassins           6.5          57          2009   \n",
       "2184                Kung Fu Hustle           7.2         831          2004   \n",
       "2262                           CJ7           6.1         107          2008   \n",
       "2309                Out of Inferno           5.8          11          2013   \n",
       "2787                Quest for Fire           7.1         109          1981   \n",
       "3099                Shaolin Soccer           6.6         491          2001   \n",
       "3309           Rumble in the Bronx           6.5         240          1995   \n",
       "3400                       Z Storm           5.8           5          2014   \n",
       "3463                  Mr. Nice Guy           6.3         128          1997   \n",
       "3714                        Exiled           7.0          46          2006   \n",
       "4078  The Legend of Drunken Master           7.2         242          1994   \n",
       "\n",
       "     english_name_of_language  \n",
       "1357                      NaN  \n",
       "1955                      NaN  \n",
       "2013                      NaN  \n",
       "2184                      NaN  \n",
       "2262                      NaN  \n",
       "2309                      NaN  \n",
       "2787                      NaN  \n",
       "3099                      NaN  \n",
       "3309                      NaN  \n",
       "3400                      NaN  \n",
       "3463                      NaN  \n",
       "3714                      NaN  \n",
       "4078                      NaN  "
      ]
     },
     "execution_count": 27,
     "metadata": {},
     "output_type": "execute_result"
    }
   ],
   "source": [
    "df_movies[df_movies['english_name_of_language'].isnull()]"
   ]
  },
  {
   "cell_type": "markdown",
   "metadata": {},
   "source": [
    "Drop strange acronyms equal to xx"
   ]
  },
  {
   "cell_type": "code",
   "execution_count": 28,
   "metadata": {},
   "outputs": [],
   "source": [
    "index_xx = df_movies[df_movies['original_language'] == 'xx'].index\n",
    "df_movies.drop(index_xx, inplace=True)"
   ]
  },
  {
   "cell_type": "markdown",
   "metadata": {},
   "source": [
    "Searching cn code in Google, found relation with chinese language"
   ]
  },
  {
   "cell_type": "code",
   "execution_count": 29,
   "metadata": {},
   "outputs": [],
   "source": [
    "df_movies['english_name_of_language'].fillna('Chinese',inplace=True)"
   ]
  },
  {
   "cell_type": "markdown",
   "metadata": {},
   "source": [
    "Check language names"
   ]
  },
  {
   "cell_type": "code",
   "execution_count": 30,
   "metadata": {},
   "outputs": [
    {
     "data": {
      "text/plain": [
       "English                                4504\n",
       "French                                   70\n",
       "Chinese                                  39\n",
       "Spanish; Castilian                       32\n",
       "German                                   27\n",
       "Hindi                                    19\n",
       "Japanese                                 16\n",
       "Italian                                  14\n",
       "Russian                                  11\n",
       "Korean                                   11\n",
       "Portuguese                                9\n",
       "Danish                                    7\n",
       "Swedish                                   5\n",
       "Dutch; Flemish                            4\n",
       "Persian                                   4\n",
       "Thai                                      3\n",
       "Hebrew                                    3\n",
       "Arabic                                    2\n",
       "Tamil                                     2\n",
       "Indonesian                                2\n",
       "Czech                                     2\n",
       "Romanian; Moldavian; Moldovan             2\n",
       "Icelandic                                 1\n",
       "Hungarian                                 1\n",
       "Bokmål, Norwegian; Norwegian Bokmål       1\n",
       "Greek, Modern (1453-)                     1\n",
       "Pushto; Pashto                            1\n",
       "Afrikaans                                 1\n",
       "Norwegian                                 1\n",
       "Turkish                                   1\n",
       "Vietnamese                                1\n",
       "Slovenian                                 1\n",
       "Telugu                                    1\n",
       "Kirghiz; Kyrgyz                           1\n",
       "Polish                                    1\n",
       "Name: english_name_of_language, dtype: int64"
      ]
     },
     "execution_count": 30,
     "metadata": {},
     "output_type": "execute_result"
    }
   ],
   "source": [
    "df_movies.english_name_of_language.value_counts()"
   ]
  },
  {
   "cell_type": "markdown",
   "metadata": {},
   "source": [
    "Check null values in df_movies"
   ]
  },
  {
   "cell_type": "code",
   "execution_count": 31,
   "metadata": {
    "scrolled": true
   },
   "outputs": [
    {
     "data": {
      "text/plain": [
       "budget                      0\n",
       "homepage                    0\n",
       "id                          0\n",
       "original_language           0\n",
       "original_title              0\n",
       "popularity                  0\n",
       "release_date                0\n",
       "revenue                     0\n",
       "runtime                     0\n",
       "status                      0\n",
       "title                       0\n",
       "vote_average                0\n",
       "vote_count                  0\n",
       "release_year                0\n",
       "english_name_of_language    0\n",
       "dtype: int64"
      ]
     },
     "execution_count": 31,
     "metadata": {},
     "output_type": "execute_result"
    }
   ],
   "source": [
    "df_movies.isnull().sum()"
   ]
  },
  {
   "cell_type": "code",
   "execution_count": 32,
   "metadata": {},
   "outputs": [
    {
     "data": {
      "text/plain": [
       "(4801, 15)"
      ]
     },
     "execution_count": 32,
     "metadata": {},
     "output_type": "execute_result"
    }
   ],
   "source": [
    "df_movies.shape"
   ]
  },
  {
   "cell_type": "markdown",
   "metadata": {},
   "source": [
    "<a id='eda'></a>\n",
    "## Exploratory Data Analysis"
   ]
  },
  {
   "cell_type": "markdown",
   "metadata": {},
   "source": [
    "Plot a correlation matrix to show relationships between variables"
   ]
  },
  {
   "cell_type": "code",
   "execution_count": 33,
   "metadata": {
    "scrolled": true
   },
   "outputs": [
    {
     "data": {
      "image/png": "[encoded data removed]",
      "text/plain": [
       "<Figure size 864x360 with 2 Axes>"
      ]
     },
     "metadata": {},
     "output_type": "display_data"
    }
   ],
   "source": [
    "corr_matrix = df_movies.corr()\n",
    "fig, axs = plt.subplots(figsize=(12,5))\n",
    "\n",
    "sn.heatmap(corr_matrix, annot=True, ax=axs)\n",
    "axs.set_yticklabels(corr_matrix.index, rotation=45, ha='right')\n",
    "axs.set_xticklabels(corr_matrix.index, rotation=0, ha='center')\n",
    "plt.show();"
   ]
  },
  {
   "cell_type": "markdown",
   "metadata": {},
   "source": [
    "### 1. Which gender is the most frequent?"
   ]
  },
  {
   "cell_type": "markdown",
   "metadata": {},
   "source": [
    "Convert json columns in dataframes with key equal to movie id, necessary when I merge the both dataframes"
   ]
  },
  {
   "cell_type": "code",
   "execution_count": 34,
   "metadata": {},
   "outputs": [],
   "source": [
    "df_genres = pd.concat([pd.DataFrame(pd.json_normalize(x)) for x in df_json['genres']], keys=df_json['movie_id'])"
   ]
  },
  {
   "cell_type": "markdown",
   "metadata": {},
   "source": [
    "Create a combined dataframe of genres and movies"
   ]
  },
  {
   "cell_type": "code",
   "execution_count": 35,
   "metadata": {},
   "outputs": [],
   "source": [
    "df_gn_cmb = pd.merge(df_genres, df_movies, left_on='movie_id', right_on='id', how='inner',suffixes=('_genres', '_movies'))"
   ]
  },
  {
   "cell_type": "markdown",
   "metadata": {},
   "source": [
    "Check the datframe size"
   ]
  },
  {
   "cell_type": "code",
   "execution_count": 36,
   "metadata": {},
   "outputs": [
    {
     "data": {
      "text/plain": [
       "((12160, 2), (12158, 17))"
      ]
     },
     "execution_count": 36,
     "metadata": {},
     "output_type": "execute_result"
    }
   ],
   "source": [
    "df_genres.shape, df_gn_cmb.shape"
   ]
  },
  {
   "cell_type": "code",
   "execution_count": 37,
   "metadata": {},
   "outputs": [],
   "source": [
    "top_genre = df_gn_cmb['name'].value_counts()"
   ]
  },
  {
   "cell_type": "code",
   "execution_count": 38,
   "metadata": {},
   "outputs": [
    {
     "data": {
      "text/plain": [
       "Drama              2296\n",
       "Comedy             1722\n",
       "Thriller           1274\n",
       "Action             1154\n",
       "Romance             894\n",
       "Adventure           789\n",
       "Crime               696\n",
       "Science Fiction     535\n",
       "Horror              519\n",
       "Family              513\n",
       "Fantasy             424\n",
       "Mystery             348\n",
       "Animation           234\n",
       "History             197\n",
       "Music               185\n",
       "War                 144\n",
       "Documentary         110\n",
       "Western              82\n",
       "Foreign              34\n",
       "TV Movie              8\n",
       "Name: name, dtype: int64"
      ]
     },
     "execution_count": 38,
     "metadata": {},
     "output_type": "execute_result"
    }
   ],
   "source": [
    "top_genre"
   ]
  },
  {
   "cell_type": "code",
   "execution_count": 39,
   "metadata": {},
   "outputs": [
    {
     "data": {
      "text/plain": [
       "'Drama'"
      ]
     },
     "execution_count": 39,
     "metadata": {},
     "output_type": "execute_result"
    }
   ],
   "source": [
    "top_genre.index[0]"
   ]
  },
  {
   "cell_type": "markdown",
   "metadata": {},
   "source": [
    "### 2. What is the average budget?"
   ]
  },
  {
   "cell_type": "code",
   "execution_count": 40,
   "metadata": {},
   "outputs": [
    {
     "data": {
      "text/plain": [
       "82283397.0"
      ]
     },
     "execution_count": 40,
     "metadata": {},
     "output_type": "execute_result"
    }
   ],
   "source": [
    "rev_mean = df_movies['revenue'].mean()\n",
    "rev_mean.round()"
   ]
  },
  {
   "cell_type": "markdown",
   "metadata": {},
   "source": [
    "### 3. What is the average revenue?"
   ]
  },
  {
   "cell_type": "code",
   "execution_count": 41,
   "metadata": {},
   "outputs": [
    {
     "data": {
      "text/plain": [
       "29054640.0"
      ]
     },
     "execution_count": 41,
     "metadata": {},
     "output_type": "execute_result"
    }
   ],
   "source": [
    "bud_mean = df_movies['budget'].mean()\n",
    "bud_mean.round()"
   ]
  },
  {
   "cell_type": "code",
   "execution_count": 42,
   "metadata": {},
   "outputs": [
    {
     "data": {
      "text/plain": [
       "53228756.585086435"
      ]
     },
     "execution_count": 42,
     "metadata": {},
     "output_type": "execute_result"
    }
   ],
   "source": [
    "rev_mean - bud_mean"
   ]
  },
  {
   "cell_type": "markdown",
   "metadata": {},
   "source": [
    "### Plot results of questions 2 and 3"
   ]
  },
  {
   "cell_type": "markdown",
   "metadata": {},
   "source": [
    "How can wee see in the chart below, overall, these 4801 films generate much more revenue."
   ]
  },
  {
   "cell_type": "code",
   "execution_count": 43,
   "metadata": {},
   "outputs": [
    {
     "data": {
      "image/png": "[encoded data removed]",
      "text/plain": [
       "<Figure size 720x360 with 1 Axes>"
      ]
     },
     "metadata": {},
     "output_type": "display_data"
    }
   ],
   "source": [
    "x = np.arange(2)\n",
    "values = [bud_mean,rev_mean]\n",
    "\n",
    "# Use function to format the y axis\n",
    "formatter = FuncFormatter(millions)\n",
    "\n",
    "my_colors =[[0.58244214, 0.20819484, 0.39943618],[0.73973528, 0.9990836 , 0.66464715]]\n",
    "\n",
    "c0 = mpatches.Patch(color=my_colors[0], label='Budget')\n",
    "c1 = mpatches.Patch(color=my_colors[1], label='Revenue')\n",
    "\n",
    "fig, ax = plt.subplots(figsize=(10,5))\n",
    "ax.yaxis.set_major_formatter(formatter)\n",
    "plt.legend(handles=[c0,c1])\n",
    "plt.bar(x, values, color=my_colors)\n",
    "plt.xlabel('Type')\n",
    "plt.ylabel('Values')\n",
    "plt.title('4801 movies budgets and revenues average in US Dolar')\n",
    "plt.xticks(x,('Budget','Revenue'));"
   ]
  },
  {
   "cell_type": "markdown",
   "metadata": {},
   "source": [
    "### 4. Except english, What language is more frequently in the movies?"
   ]
  },
  {
   "cell_type": "markdown",
   "metadata": {},
   "source": [
    "Summarize languages"
   ]
  },
  {
   "cell_type": "code",
   "execution_count": 44,
   "metadata": {},
   "outputs": [],
   "source": [
    "name_lang = df_movies.groupby('english_name_of_language')['id'].count()"
   ]
  },
  {
   "cell_type": "code",
   "execution_count": 45,
   "metadata": {},
   "outputs": [
    {
     "data": {
      "text/plain": [
       "english_name_of_language\n",
       "Afrikaans                                 1\n",
       "Arabic                                    2\n",
       "Bokmål, Norwegian; Norwegian Bokmål       1\n",
       "Chinese                                  39\n",
       "Czech                                     2\n",
       "Danish                                    7\n",
       "Dutch; Flemish                            4\n",
       "English                                4504\n",
       "French                                   70\n",
       "German                                   27\n",
       "Greek, Modern (1453-)                     1\n",
       "Hebrew                                    3\n",
       "Hindi                                    19\n",
       "Hungarian                                 1\n",
       "Icelandic                                 1\n",
       "Indonesian                                2\n",
       "Italian                                  14\n",
       "Japanese                                 16\n",
       "Kirghiz; Kyrgyz                           1\n",
       "Korean                                   11\n",
       "Norwegian                                 1\n",
       "Persian                                   4\n",
       "Polish                                    1\n",
       "Portuguese                                9\n",
       "Pushto; Pashto                            1\n",
       "Romanian; Moldavian; Moldovan             2\n",
       "Russian                                  11\n",
       "Slovenian                                 1\n",
       "Spanish; Castilian                       32\n",
       "Swedish                                   5\n",
       "Tamil                                     2\n",
       "Telugu                                    1\n",
       "Thai                                      3\n",
       "Turkish                                   1\n",
       "Vietnamese                                1\n",
       "Name: id, dtype: int64"
      ]
     },
     "execution_count": 45,
     "metadata": {},
     "output_type": "execute_result"
    }
   ],
   "source": [
    "name_lang"
   ]
  },
  {
   "cell_type": "code",
   "execution_count": 46,
   "metadata": {},
   "outputs": [],
   "source": [
    "# top 10 languages\n",
    "top_10_lang = name_lang.sort_values(ascending=False).head(11)\n",
    "\n",
    "# drop english language\n",
    "exclude_en = top_10_lang.index.values != 'English'\n",
    "top_10_lang = top_10_lang[exclude_en]"
   ]
  },
  {
   "cell_type": "markdown",
   "metadata": {},
   "source": [
    "### Plot bar chart"
   ]
  },
  {
   "cell_type": "markdown",
   "metadata": {},
   "source": [
    "English language holds a majority of movies, then, when we remove it, we can see how much other countries are producing movies."
   ]
  },
  {
   "cell_type": "code",
   "execution_count": 47,
   "metadata": {
    "scrolled": true
   },
   "outputs": [
    {
     "data": {
      "image/png": "[encoded data removed]",
      "text/plain": [
       "<Figure size 1080x360 with 1 Axes>"
      ]
     },
     "metadata": {},
     "output_type": "display_data"
    }
   ],
   "source": [
    "fig,ax = plt.subplots(figsize=(15,5))\n",
    "locations = np.arange(10)\n",
    "\n",
    "# use the np function to generate random colors: np.random.rand(len(top_10_lang),3)\n",
    "my_colors = [[0.05229528, 0.66641006, 0.89907172],\n",
    "       [0.34948318, 0.72428393, 0.56622149],\n",
    "       [0.90990714, 0.50172924, 0.59160285],\n",
    "       [0.58244214, 0.20819484, 0.39943618],\n",
    "       [0.73973528, 0.9990836 , 0.66464715],\n",
    "       [0.20700028, 0.1582801 , 0.29224259],\n",
    "       [0.35547718, 0.07945828, 0.25838442],\n",
    "       [0.24748145, 0.35897631, 0.3850589 ],\n",
    "       [0.05013265, 0.49792899, 0.38049825],\n",
    "       [0.82505185, 0.33143539, 0.22681774]]\n",
    "\n",
    "heights = top_10_lang\n",
    "labels = top_10_lang.index\n",
    "plt.bar(locations, heights, tick_label=labels, color=my_colors)\n",
    "plt.title('Top 10 original languages except english by movie')\n",
    "plt.xlabel('Name of languages')\n",
    "plt.ylabel('Count of movies');"
   ]
  },
  {
   "cell_type": "markdown",
   "metadata": {},
   "source": [
    "### Pie version of chart above "
   ]
  },
  {
   "cell_type": "markdown",
   "metadata": {},
   "source": [
    "In this version, it easy to look the diferences with percentage values"
   ]
  },
  {
   "cell_type": "code",
   "execution_count": 48,
   "metadata": {
    "scrolled": true
   },
   "outputs": [
    {
     "data": {
      "image/png": "[encoded data removed]",
      "text/plain": [
       "<Figure size 1080x360 with 1 Axes>"
      ]
     },
     "metadata": {},
     "output_type": "display_data"
    }
   ],
   "source": [
    "fig = plt.subplots(figsize=(15,5))\n",
    "heights = top_10_lang\n",
    "labels = top_10_lang.index\n",
    "plt.title('Top 10 original languages except english by movie')\n",
    "plt.pie(heights, labels=labels,autopct='%1.1f%%', colors=my_colors);"
   ]
  },
  {
   "cell_type": "markdown",
   "metadata": {},
   "source": [
    "### 5. Do high-budget movies have more or less producers involved? What about low budget films?"
   ]
  },
  {
   "cell_type": "markdown",
   "metadata": {},
   "source": [
    "Get mean value from budget"
   ]
  },
  {
   "cell_type": "code",
   "execution_count": 49,
   "metadata": {},
   "outputs": [],
   "source": [
    "bud_mean = df_movies['budget'].mean().round()"
   ]
  },
  {
   "cell_type": "markdown",
   "metadata": {},
   "source": [
    "Select movies with budget is greater than budget mean"
   ]
  },
  {
   "cell_type": "code",
   "execution_count": 50,
   "metadata": {},
   "outputs": [],
   "source": [
    "movies_high_bud = df_movies.query(\"budget > @bud_mean\")"
   ]
  },
  {
   "cell_type": "markdown",
   "metadata": {},
   "source": [
    "Get bins from movies to make budget levels"
   ]
  },
  {
   "cell_type": "code",
   "execution_count": 51,
   "metadata": {},
   "outputs": [
    {
     "data": {
      "text/plain": [
       "count    1.598000e+03\n",
       "mean     7.182385e+07\n",
       "std      4.570849e+07\n",
       "min      3.000000e+07\n",
       "25%      4.000000e+07\n",
       "50%      5.700000e+07\n",
       "75%      8.500000e+07\n",
       "max      3.800000e+08\n",
       "Name: budget, dtype: float64"
      ]
     },
     "execution_count": 51,
     "metadata": {},
     "output_type": "execute_result"
    }
   ],
   "source": [
    "movies_high_bud.budget.describe()"
   ]
  },
  {
   "cell_type": "code",
   "execution_count": 52,
   "metadata": {},
   "outputs": [
    {
     "name": "stderr",
     "output_type": "stream",
     "text": [
      "<ipython-input-52-78f026802a39>:6: SettingWithCopyWarning: \n",
      "A value is trying to be set on a copy of a slice from a DataFrame.\n",
      "Try using .loc[row_indexer,col_indexer] = value instead\n",
      "\n",
      "See the caveats in the documentation: https://pandas.pydata.org/pandas-docs/stable/user_guide/indexing.html#returning-a-view-versus-a-copy\n",
      "  movies_high_bud['budget_levels'] = pd.cut(movies_high_bud['budget'],bins=budg_bins, labels=budg_lbl,include_lowest=True)\n"
     ]
    }
   ],
   "source": [
    "budg_bins = [3.000000e+07,5.700000e+07,8.500000e+07,3.800000e+08]\n",
    "budg_lbl = ['Low budget','Mediun budget','High budget']\n",
    "\n",
    "# Create levels of budget\n",
    "# The include_lowest parameter is to ensure the minimum value\n",
    "movies_high_bud['budget_levels'] = pd.cut(movies_high_bud['budget'],bins=budg_bins, labels=budg_lbl,include_lowest=True)"
   ]
  },
  {
   "cell_type": "code",
   "execution_count": 53,
   "metadata": {},
   "outputs": [
    {
     "data": {
      "text/plain": [
       "Low budget       800\n",
       "Mediun budget    409\n",
       "High budget      389\n",
       "Name: budget_levels, dtype: int64"
      ]
     },
     "execution_count": 53,
     "metadata": {},
     "output_type": "execute_result"
    }
   ],
   "source": [
    "movies_high_bud['budget_levels'].value_counts()"
   ]
  },
  {
   "cell_type": "markdown",
   "metadata": {},
   "source": [
    "Get production companies by movies.\n",
    "\n",
    "Convert json columns in dataframes with key equal to movie id, necessary when I merge the both dataframes"
   ]
  },
  {
   "cell_type": "code",
   "execution_count": 54,
   "metadata": {},
   "outputs": [],
   "source": [
    "df_prod_comp = pd.concat([pd.DataFrame(pd.json_normalize(x)) for x in df_json['production_companies']], keys=df_json['movie_id'])"
   ]
  },
  {
   "cell_type": "markdown",
   "metadata": {},
   "source": [
    "Create a combined dataframe of producers and movies"
   ]
  },
  {
   "cell_type": "code",
   "execution_count": 55,
   "metadata": {},
   "outputs": [],
   "source": [
    "df_pc_cmb = pd.merge(df_prod_comp, movies_high_bud, left_on='movie_id', right_on='id', how='inner', suffixes=('_prod_comp', '_movies'))"
   ]
  },
  {
   "cell_type": "markdown",
   "metadata": {},
   "source": [
    "Check the datframe size"
   ]
  },
  {
   "cell_type": "code",
   "execution_count": 56,
   "metadata": {},
   "outputs": [
    {
     "data": {
      "text/plain": [
       "((13677, 2), (5668, 18))"
      ]
     },
     "execution_count": 56,
     "metadata": {},
     "output_type": "execute_result"
    }
   ],
   "source": [
    "df_prod_comp.shape, df_pc_cmb.shape"
   ]
  },
  {
   "cell_type": "code",
   "execution_count": 57,
   "metadata": {},
   "outputs": [
    {
     "data": {
      "text/html": [
       "<div>\n",
       "<style scoped>\n",
       "    .dataframe tbody tr th:only-of-type {\n",
       "        vertical-align: middle;\n",
       "    }\n",
       "\n",
       "    .dataframe tbody tr th {\n",
       "        vertical-align: top;\n",
       "    }\n",
       "\n",
       "    .dataframe thead th {\n",
       "        text-align: right;\n",
       "    }\n",
       "</style>\n",
       "<table border=\"1\" class=\"dataframe\">\n",
       "  <thead>\n",
       "    <tr style=\"text-align: right;\">\n",
       "      <th></th>\n",
       "      <th>name</th>\n",
       "      <th>id_prod_comp</th>\n",
       "      <th>budget</th>\n",
       "      <th>homepage</th>\n",
       "      <th>id_movies</th>\n",
       "      <th>original_language</th>\n",
       "      <th>original_title</th>\n",
       "      <th>popularity</th>\n",
       "      <th>release_date</th>\n",
       "      <th>revenue</th>\n",
       "      <th>runtime</th>\n",
       "      <th>status</th>\n",
       "      <th>title</th>\n",
       "      <th>vote_average</th>\n",
       "      <th>vote_count</th>\n",
       "      <th>release_year</th>\n",
       "      <th>english_name_of_language</th>\n",
       "      <th>budget_levels</th>\n",
       "    </tr>\n",
       "  </thead>\n",
       "  <tbody>\n",
       "    <tr>\n",
       "      <th>0</th>\n",
       "      <td>Ingenious Film Partners</td>\n",
       "      <td>289.0</td>\n",
       "      <td>237000000.0</td>\n",
       "      <td>Yes</td>\n",
       "      <td>19995</td>\n",
       "      <td>en</td>\n",
       "      <td>Avatar</td>\n",
       "      <td>150.437577</td>\n",
       "      <td>2009-12-10</td>\n",
       "      <td>2.787965e+09</td>\n",
       "      <td>162</td>\n",
       "      <td>Released</td>\n",
       "      <td>Avatar</td>\n",
       "      <td>7.2</td>\n",
       "      <td>11800</td>\n",
       "      <td>2009</td>\n",
       "      <td>English</td>\n",
       "      <td>High budget</td>\n",
       "    </tr>\n",
       "    <tr>\n",
       "      <th>1</th>\n",
       "      <td>Twentieth Century Fox Film Corporation</td>\n",
       "      <td>306.0</td>\n",
       "      <td>237000000.0</td>\n",
       "      <td>Yes</td>\n",
       "      <td>19995</td>\n",
       "      <td>en</td>\n",
       "      <td>Avatar</td>\n",
       "      <td>150.437577</td>\n",
       "      <td>2009-12-10</td>\n",
       "      <td>2.787965e+09</td>\n",
       "      <td>162</td>\n",
       "      <td>Released</td>\n",
       "      <td>Avatar</td>\n",
       "      <td>7.2</td>\n",
       "      <td>11800</td>\n",
       "      <td>2009</td>\n",
       "      <td>English</td>\n",
       "      <td>High budget</td>\n",
       "    </tr>\n",
       "    <tr>\n",
       "      <th>2</th>\n",
       "      <td>Dune Entertainment</td>\n",
       "      <td>444.0</td>\n",
       "      <td>237000000.0</td>\n",
       "      <td>Yes</td>\n",
       "      <td>19995</td>\n",
       "      <td>en</td>\n",
       "      <td>Avatar</td>\n",
       "      <td>150.437577</td>\n",
       "      <td>2009-12-10</td>\n",
       "      <td>2.787965e+09</td>\n",
       "      <td>162</td>\n",
       "      <td>Released</td>\n",
       "      <td>Avatar</td>\n",
       "      <td>7.2</td>\n",
       "      <td>11800</td>\n",
       "      <td>2009</td>\n",
       "      <td>English</td>\n",
       "      <td>High budget</td>\n",
       "    </tr>\n",
       "    <tr>\n",
       "      <th>3</th>\n",
       "      <td>Lightstorm Entertainment</td>\n",
       "      <td>574.0</td>\n",
       "      <td>237000000.0</td>\n",
       "      <td>Yes</td>\n",
       "      <td>19995</td>\n",
       "      <td>en</td>\n",
       "      <td>Avatar</td>\n",
       "      <td>150.437577</td>\n",
       "      <td>2009-12-10</td>\n",
       "      <td>2.787965e+09</td>\n",
       "      <td>162</td>\n",
       "      <td>Released</td>\n",
       "      <td>Avatar</td>\n",
       "      <td>7.2</td>\n",
       "      <td>11800</td>\n",
       "      <td>2009</td>\n",
       "      <td>English</td>\n",
       "      <td>High budget</td>\n",
       "    </tr>\n",
       "    <tr>\n",
       "      <th>4</th>\n",
       "      <td>Walt Disney Pictures</td>\n",
       "      <td>2.0</td>\n",
       "      <td>300000000.0</td>\n",
       "      <td>Yes</td>\n",
       "      <td>285</td>\n",
       "      <td>en</td>\n",
       "      <td>Pirates of the Caribbean: At World's End</td>\n",
       "      <td>139.082615</td>\n",
       "      <td>2007-05-19</td>\n",
       "      <td>9.610000e+08</td>\n",
       "      <td>169</td>\n",
       "      <td>Released</td>\n",
       "      <td>Pirates of the Caribbean: At World's End</td>\n",
       "      <td>6.9</td>\n",
       "      <td>4500</td>\n",
       "      <td>2007</td>\n",
       "      <td>English</td>\n",
       "      <td>High budget</td>\n",
       "    </tr>\n",
       "  </tbody>\n",
       "</table>\n",
       "</div>"
      ],
      "text/plain": [
       "                                     name  id_prod_comp       budget homepage  \\\n",
       "0                 Ingenious Film Partners         289.0  237000000.0      Yes   \n",
       "1  Twentieth Century Fox Film Corporation         306.0  237000000.0      Yes   \n",
       "2                      Dune Entertainment         444.0  237000000.0      Yes   \n",
       "3                Lightstorm Entertainment         574.0  237000000.0      Yes   \n",
       "4                    Walt Disney Pictures           2.0  300000000.0      Yes   \n",
       "\n",
       "   id_movies original_language                            original_title  \\\n",
       "0      19995                en                                    Avatar   \n",
       "1      19995                en                                    Avatar   \n",
       "2      19995                en                                    Avatar   \n",
       "3      19995                en                                    Avatar   \n",
       "4        285                en  Pirates of the Caribbean: At World's End   \n",
       "\n",
       "   popularity release_date       revenue  runtime    status  \\\n",
       "0  150.437577   2009-12-10  2.787965e+09      162  Released   \n",
       "1  150.437577   2009-12-10  2.787965e+09      162  Released   \n",
       "2  150.437577   2009-12-10  2.787965e+09      162  Released   \n",
       "3  150.437577   2009-12-10  2.787965e+09      162  Released   \n",
       "4  139.082615   2007-05-19  9.610000e+08      169  Released   \n",
       "\n",
       "                                      title  vote_average  vote_count  \\\n",
       "0                                    Avatar           7.2       11800   \n",
       "1                                    Avatar           7.2       11800   \n",
       "2                                    Avatar           7.2       11800   \n",
       "3                                    Avatar           7.2       11800   \n",
       "4  Pirates of the Caribbean: At World's End           6.9        4500   \n",
       "\n",
       "   release_year english_name_of_language budget_levels  \n",
       "0          2009                  English   High budget  \n",
       "1          2009                  English   High budget  \n",
       "2          2009                  English   High budget  \n",
       "3          2009                  English   High budget  \n",
       "4          2007                  English   High budget  "
      ]
     },
     "execution_count": 57,
     "metadata": {},
     "output_type": "execute_result"
    }
   ],
   "source": [
    "df_pc_cmb.head()"
   ]
  },
  {
   "cell_type": "markdown",
   "metadata": {},
   "source": [
    "Sumarize levels"
   ]
  },
  {
   "cell_type": "code",
   "execution_count": 58,
   "metadata": {},
   "outputs": [
    {
     "data": {
      "text/plain": [
       "budget_levels\n",
       "Low budget       2682\n",
       "Mediun budget    1490\n",
       "High budget      1496\n",
       "Name: name, dtype: int64"
      ]
     },
     "execution_count": 58,
     "metadata": {},
     "output_type": "execute_result"
    }
   ],
   "source": [
    "bud_lvl_prod = df_pc_cmb.groupby('budget_levels')['name'].count()\n",
    "bud_lvl_prod"
   ]
  },
  {
   "cell_type": "markdown",
   "metadata": {},
   "source": [
    "### Plot bar chart"
   ]
  },
  {
   "cell_type": "markdown",
   "metadata": {},
   "source": [
    "Here, we can think that low budget films may need more help, so they involve more producers or perhaps they do not provide a more specialized service, which justifies the involvement of more producers."
   ]
  },
  {
   "cell_type": "code",
   "execution_count": 59,
   "metadata": {
    "scrolled": true
   },
   "outputs": [
    {
     "data": {
      "image/png": "[encoded data removed]",
      "text/plain": [
       "<Figure size 576x360 with 1 Axes>"
      ]
     },
     "metadata": {},
     "output_type": "display_data"
    }
   ],
   "source": [
    "fig, axs = plt.subplots(figsize=(8,5))\n",
    "\n",
    "locations = np.arange(len(bud_lvl_prod))\n",
    "values = bud_lvl_prod\n",
    "\n",
    "my_colors = [[0.24748145, 0.35897631, 0.3850589 ],\n",
    "            [0.05013265, 0.49792899, 0.38049825],\n",
    "            [0.82505185, 0.33143539, 0.22681774]]\n",
    "\n",
    "labels = bud_lvl_prod.index\n",
    "plt.bar(locations,values, tick_label = labels, color=my_colors)\n",
    "plt.title('Count of producers in each level os budgets')\n",
    "plt.xlabel('Budget levels')\n",
    "plt.ylabel('Count of producers');"
   ]
  },
  {
   "cell_type": "markdown",
   "metadata": {},
   "source": [
    "### 6. Which genre is associated with the best average vote? And with the smallest?"
   ]
  },
  {
   "cell_type": "markdown",
   "metadata": {},
   "source": [
    "Get the movie vote average sumarized by genre"
   ]
  },
  {
   "cell_type": "code",
   "execution_count": 60,
   "metadata": {},
   "outputs": [
    {
     "data": {
      "text/plain": [
       "name\n",
       "History            6.719797\n",
       "War                6.713889\n",
       "Drama              6.388284\n",
       "Music              6.355676\n",
       "Foreign            6.352941\n",
       "Animation          6.341453\n",
       "Crime              6.274138\n",
       "Documentary        6.238182\n",
       "Romance            6.207718\n",
       "Mystery            6.183908\n",
       "Western            6.178049\n",
       "Adventure          6.155767\n",
       "Fantasy            6.096698\n",
       "Family             6.029630\n",
       "Thriller           6.010989\n",
       "Science Fiction    6.005607\n",
       "Action             5.989515\n",
       "Comedy             5.945587\n",
       "TV Movie           5.662500\n",
       "Horror             5.626590\n",
       "Name: vote_average, dtype: float64"
      ]
     },
     "execution_count": 60,
     "metadata": {},
     "output_type": "execute_result"
    }
   ],
   "source": [
    "genre_votes = df_gn_cmb.groupby('name')['vote_average'].mean().sort_values(ascending=False)\n",
    "genre_votes"
   ]
  },
  {
   "cell_type": "markdown",
   "metadata": {},
   "source": [
    "History and War movies may be more difficult to produce, as they are often true stories and may need more realistic special effects, and maybe that's why people tend to give better classifications. Horror movies are about fear and bad things, so maybe the rating is low."
   ]
  },
  {
   "cell_type": "code",
   "execution_count": 61,
   "metadata": {
    "scrolled": false
   },
   "outputs": [
    {
     "data": {
      "image/png": "[encoded data removed]",
      "text/plain": [
       "<Figure size 1296x360 with 1 Axes>"
      ]
     },
     "metadata": {},
     "output_type": "display_data"
    }
   ],
   "source": [
    "fig, ax = plt.subplots(figsize=(18,5))\n",
    "\n",
    "locations = np.arange(len(genre_votes))\n",
    "values = genre_votes\n",
    "labels = genre_votes.index\n",
    "plt.bar(locations, values, tick_label=labels, color=[0.82505185, 0.33143539, 0.22681774])\n",
    "plt.title('Genres associated with the best average votes')\n",
    "plt.xlabel('Genres')\n",
    "plt.ylabel('Vote average')\n",
    "ax.set_xticklabels(labels, rotation=45, ha=\"right\");"
   ]
  },
  {
   "cell_type": "markdown",
   "metadata": {},
   "source": [
    "### 7. What is the characteristics of movies that have and do not have webpages?"
   ]
  },
  {
   "cell_type": "markdown",
   "metadata": {},
   "source": [
    "Get the main characteristics of movies in web"
   ]
  },
  {
   "cell_type": "code",
   "execution_count": 62,
   "metadata": {},
   "outputs": [],
   "source": [
    "movies_in_web = df_movies.query(\"homepage == 'Yes'\")"
   ]
  },
  {
   "cell_type": "markdown",
   "metadata": {},
   "source": [
    "Popularity and votes averages is higher in percentiles, maybe because the interation of webiste with people."
   ]
  },
  {
   "cell_type": "code",
   "execution_count": 63,
   "metadata": {},
   "outputs": [
    {
     "data": {
      "text/html": [
       "<div>\n",
       "<style scoped>\n",
       "    .dataframe tbody tr th:only-of-type {\n",
       "        vertical-align: middle;\n",
       "    }\n",
       "\n",
       "    .dataframe tbody tr th {\n",
       "        vertical-align: top;\n",
       "    }\n",
       "\n",
       "    .dataframe thead th {\n",
       "        text-align: right;\n",
       "    }\n",
       "</style>\n",
       "<table border=\"1\" class=\"dataframe\">\n",
       "  <thead>\n",
       "    <tr style=\"text-align: right;\">\n",
       "      <th></th>\n",
       "      <th>budget</th>\n",
       "      <th>revenue</th>\n",
       "      <th>runtime</th>\n",
       "      <th>popularity</th>\n",
       "      <th>vote_average</th>\n",
       "    </tr>\n",
       "  </thead>\n",
       "  <tbody>\n",
       "    <tr>\n",
       "      <th>count</th>\n",
       "      <td>1.712000e+03</td>\n",
       "      <td>1.712000e+03</td>\n",
       "      <td>1712.000000</td>\n",
       "      <td>1712.000000</td>\n",
       "      <td>1712.000000</td>\n",
       "    </tr>\n",
       "    <tr>\n",
       "      <th>mean</th>\n",
       "      <td>4.196824e+07</td>\n",
       "      <td>1.395772e+08</td>\n",
       "      <td>108.183995</td>\n",
       "      <td>32.618629</td>\n",
       "      <td>6.244685</td>\n",
       "    </tr>\n",
       "    <tr>\n",
       "      <th>std</th>\n",
       "      <td>5.260389e+07</td>\n",
       "      <td>2.315356e+08</td>\n",
       "      <td>19.781374</td>\n",
       "      <td>46.120602</td>\n",
       "      <td>1.067383</td>\n",
       "    </tr>\n",
       "    <tr>\n",
       "      <th>min</th>\n",
       "      <td>0.000000e+00</td>\n",
       "      <td>0.000000e+00</td>\n",
       "      <td>0.000000</td>\n",
       "      <td>0.010909</td>\n",
       "      <td>0.000000</td>\n",
       "    </tr>\n",
       "    <tr>\n",
       "      <th>25%</th>\n",
       "      <td>4.500000e+06</td>\n",
       "      <td>2.765780e+06</td>\n",
       "      <td>95.000000</td>\n",
       "      <td>8.830353</td>\n",
       "      <td>5.700000</td>\n",
       "    </tr>\n",
       "    <tr>\n",
       "      <th>50%</th>\n",
       "      <td>2.200000e+07</td>\n",
       "      <td>4.978986e+07</td>\n",
       "      <td>105.000000</td>\n",
       "      <td>21.813376</td>\n",
       "      <td>6.300000</td>\n",
       "    </tr>\n",
       "    <tr>\n",
       "      <th>75%</th>\n",
       "      <td>6.000000e+07</td>\n",
       "      <td>1.634997e+08</td>\n",
       "      <td>120.000000</td>\n",
       "      <td>42.776643</td>\n",
       "      <td>6.900000</td>\n",
       "    </tr>\n",
       "    <tr>\n",
       "      <th>max</th>\n",
       "      <td>3.800000e+08</td>\n",
       "      <td>2.787965e+09</td>\n",
       "      <td>201.000000</td>\n",
       "      <td>875.581305</td>\n",
       "      <td>8.400000</td>\n",
       "    </tr>\n",
       "  </tbody>\n",
       "</table>\n",
       "</div>"
      ],
      "text/plain": [
       "             budget       revenue      runtime   popularity  vote_average\n",
       "count  1.712000e+03  1.712000e+03  1712.000000  1712.000000   1712.000000\n",
       "mean   4.196824e+07  1.395772e+08   108.183995    32.618629      6.244685\n",
       "std    5.260389e+07  2.315356e+08    19.781374    46.120602      1.067383\n",
       "min    0.000000e+00  0.000000e+00     0.000000     0.010909      0.000000\n",
       "25%    4.500000e+06  2.765780e+06    95.000000     8.830353      5.700000\n",
       "50%    2.200000e+07  4.978986e+07   105.000000    21.813376      6.300000\n",
       "75%    6.000000e+07  1.634997e+08   120.000000    42.776643      6.900000\n",
       "max    3.800000e+08  2.787965e+09   201.000000   875.581305      8.400000"
      ]
     },
     "execution_count": 63,
     "metadata": {},
     "output_type": "execute_result"
    }
   ],
   "source": [
    "# Movies with website\n",
    "movies_in_web[['budget','revenue','runtime','popularity','vote_average']].describe()"
   ]
  },
  {
   "cell_type": "code",
   "execution_count": 64,
   "metadata": {},
   "outputs": [],
   "source": [
    "# Get the main characteristics of movies not in web\n",
    "movies_notin_web = df_movies.query(\"homepage == 'No'\")"
   ]
  },
  {
   "cell_type": "markdown",
   "metadata": {},
   "source": [
    "The popularity average is much more lower in percentiles than movies with websites, maybe because have one less mean of communications (websites)?"
   ]
  },
  {
   "cell_type": "code",
   "execution_count": 65,
   "metadata": {
    "scrolled": false
   },
   "outputs": [
    {
     "data": {
      "text/html": [
       "<div>\n",
       "<style scoped>\n",
       "    .dataframe tbody tr th:only-of-type {\n",
       "        vertical-align: middle;\n",
       "    }\n",
       "\n",
       "    .dataframe tbody tr th {\n",
       "        vertical-align: top;\n",
       "    }\n",
       "\n",
       "    .dataframe thead th {\n",
       "        text-align: right;\n",
       "    }\n",
       "</style>\n",
       "<table border=\"1\" class=\"dataframe\">\n",
       "  <thead>\n",
       "    <tr style=\"text-align: right;\">\n",
       "      <th></th>\n",
       "      <th>budget</th>\n",
       "      <th>revenue</th>\n",
       "      <th>runtime</th>\n",
       "      <th>popularity</th>\n",
       "      <th>vote_average</th>\n",
       "    </tr>\n",
       "  </thead>\n",
       "  <tbody>\n",
       "    <tr>\n",
       "      <th>count</th>\n",
       "      <td>3.089000e+03</td>\n",
       "      <td>3.089000e+03</td>\n",
       "      <td>3089.000000</td>\n",
       "      <td>3089.000000</td>\n",
       "      <td>3089.000000</td>\n",
       "    </tr>\n",
       "    <tr>\n",
       "      <th>mean</th>\n",
       "      <td>2.189760e+07</td>\n",
       "      <td>5.052973e+07</td>\n",
       "      <td>106.187116</td>\n",
       "      <td>15.337614</td>\n",
       "      <td>6.009291</td>\n",
       "    </tr>\n",
       "    <tr>\n",
       "      <th>std</th>\n",
       "      <td>3.002447e+07</td>\n",
       "      <td>9.332353e+07</td>\n",
       "      <td>23.933575</td>\n",
       "      <td>16.995322</td>\n",
       "      <td>1.247329</td>\n",
       "    </tr>\n",
       "    <tr>\n",
       "      <th>min</th>\n",
       "      <td>0.000000e+00</td>\n",
       "      <td>0.000000e+00</td>\n",
       "      <td>0.000000</td>\n",
       "      <td>0.000372</td>\n",
       "      <td>0.000000</td>\n",
       "    </tr>\n",
       "    <tr>\n",
       "      <th>25%</th>\n",
       "      <td>0.000000e+00</td>\n",
       "      <td>0.000000e+00</td>\n",
       "      <td>93.000000</td>\n",
       "      <td>3.656491</td>\n",
       "      <td>5.500000</td>\n",
       "    </tr>\n",
       "    <tr>\n",
       "      <th>50%</th>\n",
       "      <td>1.000000e+07</td>\n",
       "      <td>1.033748e+07</td>\n",
       "      <td>103.000000</td>\n",
       "      <td>9.799177</td>\n",
       "      <td>6.200000</td>\n",
       "    </tr>\n",
       "    <tr>\n",
       "      <th>75%</th>\n",
       "      <td>3.025000e+07</td>\n",
       "      <td>6.037858e+07</td>\n",
       "      <td>116.000000</td>\n",
       "      <td>20.716023</td>\n",
       "      <td>6.800000</td>\n",
       "    </tr>\n",
       "    <tr>\n",
       "      <th>max</th>\n",
       "      <td>2.250000e+08</td>\n",
       "      <td>8.766885e+08</td>\n",
       "      <td>338.000000</td>\n",
       "      <td>139.575085</td>\n",
       "      <td>10.000000</td>\n",
       "    </tr>\n",
       "  </tbody>\n",
       "</table>\n",
       "</div>"
      ],
      "text/plain": [
       "             budget       revenue      runtime   popularity  vote_average\n",
       "count  3.089000e+03  3.089000e+03  3089.000000  3089.000000   3089.000000\n",
       "mean   2.189760e+07  5.052973e+07   106.187116    15.337614      6.009291\n",
       "std    3.002447e+07  9.332353e+07    23.933575    16.995322      1.247329\n",
       "min    0.000000e+00  0.000000e+00     0.000000     0.000372      0.000000\n",
       "25%    0.000000e+00  0.000000e+00    93.000000     3.656491      5.500000\n",
       "50%    1.000000e+07  1.033748e+07   103.000000     9.799177      6.200000\n",
       "75%    3.025000e+07  6.037858e+07   116.000000    20.716023      6.800000\n",
       "max    2.250000e+08  8.766885e+08   338.000000   139.575085     10.000000"
      ]
     },
     "execution_count": 65,
     "metadata": {},
     "output_type": "execute_result"
    }
   ],
   "source": [
    "# Movies with not website\n",
    "movies_notin_web[['budget','revenue','runtime','popularity','vote_average']].describe()"
   ]
  },
  {
   "cell_type": "markdown",
   "metadata": {},
   "source": [
    "### 8. Do long runtime movies have low or high average votes?"
   ]
  },
  {
   "cell_type": "markdown",
   "metadata": {},
   "source": [
    "Get average from votes and runtime fields"
   ]
  },
  {
   "cell_type": "code",
   "execution_count": 66,
   "metadata": {},
   "outputs": [],
   "source": [
    "vote_avg_mean = df_movies['vote_average'].mean()\n",
    "runtime_mean = df_movies['runtime'].mean()"
   ]
  },
  {
   "cell_type": "markdown",
   "metadata": {},
   "source": [
    "Get only movies with runtime is hight than runtime mean"
   ]
  },
  {
   "cell_type": "code",
   "execution_count": 67,
   "metadata": {},
   "outputs": [],
   "source": [
    "long_runtime = df_movies.query(\"runtime > @runtime_mean\")"
   ]
  },
  {
   "cell_type": "markdown",
   "metadata": {},
   "source": [
    "Calculate the difference of votes between long runtime average movies and general average votes "
   ]
  },
  {
   "cell_type": "code",
   "execution_count": 68,
   "metadata": {},
   "outputs": [
    {
     "data": {
      "text/plain": [
       "0.4257689420363855"
      ]
     },
     "execution_count": 68,
     "metadata": {},
     "output_type": "execute_result"
    }
   ],
   "source": [
    "long_runtime['vote_average'].mean() - vote_avg_mean"
   ]
  },
  {
   "cell_type": "markdown",
   "metadata": {},
   "source": [
    "### 9. Which films are associated with the most used keyword?"
   ]
  },
  {
   "cell_type": "markdown",
   "metadata": {},
   "source": [
    "The objective of this question is create a list of movies related with the most used keyword."
   ]
  },
  {
   "cell_type": "markdown",
   "metadata": {},
   "source": [
    "Get keywords by movies.\n",
    "\n",
    "Convert json columns in dataframes with key equal to movie id, necessary when I merge the both dataframes."
   ]
  },
  {
   "cell_type": "code",
   "execution_count": 69,
   "metadata": {},
   "outputs": [],
   "source": [
    "df_keywords = pd.concat([pd.DataFrame(pd.json_normalize(x)) for x in df_json['keywords']], keys=df_json['movie_id'])"
   ]
  },
  {
   "cell_type": "markdown",
   "metadata": {},
   "source": [
    "Create a combined dataframe of keywords and movies"
   ]
  },
  {
   "cell_type": "code",
   "execution_count": 70,
   "metadata": {},
   "outputs": [],
   "source": [
    "df_kw_cmb = pd.merge(df_keywords,df_movies, left_on='movie_id', right_on='id', suffixes=('_keywords','_movies')).copy()"
   ]
  },
  {
   "cell_type": "markdown",
   "metadata": {},
   "source": [
    "Check the datframe size"
   ]
  },
  {
   "cell_type": "code",
   "execution_count": 71,
   "metadata": {},
   "outputs": [
    {
     "data": {
      "text/plain": [
       "((36194, 2), (36189, 17))"
      ]
     },
     "execution_count": 71,
     "metadata": {},
     "output_type": "execute_result"
    }
   ],
   "source": [
    "df_keywords.shape, df_kw_cmb.shape"
   ]
  },
  {
   "cell_type": "markdown",
   "metadata": {},
   "source": [
    "Get the classify of movies keywords"
   ]
  },
  {
   "cell_type": "code",
   "execution_count": 72,
   "metadata": {
    "scrolled": true
   },
   "outputs": [],
   "source": [
    "movies_kw = df_kw_cmb.groupby('name')['name'].value_counts().sort_values(ascending=False)"
   ]
  },
  {
   "cell_type": "markdown",
   "metadata": {},
   "source": [
    "Get the top keyword"
   ]
  },
  {
   "cell_type": "code",
   "execution_count": 73,
   "metadata": {},
   "outputs": [
    {
     "data": {
      "text/plain": [
       "'woman director'"
      ]
     },
     "execution_count": 73,
     "metadata": {},
     "output_type": "execute_result"
    }
   ],
   "source": [
    "top_kw = movies_kw.index[0][0]\n",
    "top_kw "
   ]
  },
  {
   "cell_type": "markdown",
   "metadata": {},
   "source": [
    "Select movies with top keyword"
   ]
  },
  {
   "cell_type": "code",
   "execution_count": 74,
   "metadata": {},
   "outputs": [],
   "source": [
    "kw_movies = df_kw_cmb.query(\"name == @top_kw\").groupby('title')['id_movies'].value_counts()"
   ]
  },
  {
   "cell_type": "code",
   "execution_count": 75,
   "metadata": {},
   "outputs": [],
   "source": [
    "# Store data in a list\n",
    "lst_movies = []\n",
    "for i,j in kw_movies.index:\n",
    "    lst_movies.append(i)"
   ]
  },
  {
   "cell_type": "markdown",
   "metadata": {},
   "source": [
    "List of 324 movies with woman director keyword"
   ]
  },
  {
   "cell_type": "code",
   "execution_count": 76,
   "metadata": {},
   "outputs": [
    {
     "data": {
      "text/plain": [
       "324"
      ]
     },
     "execution_count": 76,
     "metadata": {},
     "output_type": "execute_result"
    }
   ],
   "source": [
    "len(lst_movies)"
   ]
  },
  {
   "cell_type": "markdown",
   "metadata": {},
   "source": [
    "Show list of movies"
   ]
  },
  {
   "cell_type": "code",
   "execution_count": 77,
   "metadata": {},
   "outputs": [
    {
     "data": {
      "text/plain": [
       "['16 to Life',\n",
       " '200 Cigarettes',\n",
       " '27 Dresses',\n",
       " '28 Days',\n",
       " 'A League of Their Own',\n",
       " 'A Tale of Three Cities',\n",
       " 'Across the Universe',\n",
       " 'Adore',\n",
       " 'After.Life',\n",
       " 'Aloft',\n",
       " 'Alvin and the Chipmunks: The Squeakquel',\n",
       " 'American Psycho',\n",
       " 'American Splendor',\n",
       " 'An Education',\n",
       " 'Antarctic Edge: 70° South',\n",
       " 'Aquamarine',\n",
       " 'Archaeology of a Woman',\n",
       " 'Aroused',\n",
       " 'Arthur Christmas',\n",
       " 'August Rush',\n",
       " 'Autumn in New York',\n",
       " 'B-Girl',\n",
       " 'Bachelorette',\n",
       " 'Bend It Like Beckham',\n",
       " 'Beyond the Lights',\n",
       " 'Big',\n",
       " 'Black Nativity',\n",
       " 'Black Rock',\n",
       " 'Blood and Chocolate',\n",
       " 'Blue Car',\n",
       " 'Born Of War',\n",
       " 'Born to Fly: Elizabeth Streb vs. Gravity',\n",
       " 'Bound',\n",
       " \"Boys Don't Cry\",\n",
       " 'Bran Nue Dae',\n",
       " 'Brave',\n",
       " 'Brick Lane',\n",
       " 'Bride & Prejudice',\n",
       " \"Bridget Jones's Diary\",\n",
       " 'Bridget Jones: The Edge of Reason',\n",
       " 'Bright Star',\n",
       " 'Burn',\n",
       " \"But I'm a Cheerleader\",\n",
       " 'Butterfly Girl',\n",
       " 'By the Sea',\n",
       " 'Cadillac Records',\n",
       " \"Can't Hardly Wait\",\n",
       " \"Can't Stop the Music\",\n",
       " 'Caramel',\n",
       " 'Carrie',\n",
       " 'Censored Voices',\n",
       " 'Chasing Papi',\n",
       " 'Circumstance',\n",
       " 'City of God',\n",
       " 'Civil Brand',\n",
       " 'Clockwatchers',\n",
       " 'Cloud Atlas',\n",
       " 'Clueless',\n",
       " 'Coco Before Chanel',\n",
       " 'Come Early Morning',\n",
       " 'Confessions of a Teenage Drama Queen',\n",
       " 'Copying Beethoven',\n",
       " 'Country Strong',\n",
       " 'Crossroads',\n",
       " 'D.E.B.S.',\n",
       " 'Dear Frankie',\n",
       " 'Deceptive Practice: The Mysteries and Mentors of Ricky Jay',\n",
       " 'Deep Impact',\n",
       " 'Divine Secrets of the Ya-Ya Sisterhood',\n",
       " 'Doctor Dolittle',\n",
       " 'Earth',\n",
       " 'Elza',\n",
       " 'Enough Said',\n",
       " \"Eve's Bayou\",\n",
       " 'Evolution',\n",
       " 'Fast Times at Ridgemont High',\n",
       " 'Fifty Dead Men Walking',\n",
       " 'Fifty Shades of Grey',\n",
       " 'Fish Tank',\n",
       " 'Fort McCoy',\n",
       " 'Four Rooms',\n",
       " 'Freakonomics',\n",
       " \"Freddy's Dead: The Final Nightmare\",\n",
       " 'Frida',\n",
       " 'Friends with Money',\n",
       " 'Frozen',\n",
       " 'Frozen River',\n",
       " 'Go for It!',\n",
       " 'Going the Distance',\n",
       " 'Good Dick',\n",
       " 'Gory Gory Hallelujah',\n",
       " 'H.',\n",
       " 'Half Baked',\n",
       " 'Hanging Up',\n",
       " \"Happily N'Ever After\",\n",
       " 'Harriet the Spy',\n",
       " 'Herbie Fully Loaded',\n",
       " 'Higher Ground',\n",
       " 'Home for the Holidays',\n",
       " 'Hot Pursuit',\n",
       " 'How to Deal',\n",
       " 'I Am Sam',\n",
       " \"I Love You, Don't Touch Me!\",\n",
       " 'I Spy',\n",
       " 'In the Cut',\n",
       " 'In the Land of Blood and Honey',\n",
       " 'Indie Game: The Movie',\n",
       " 'Inescapable',\n",
       " 'Ishtar',\n",
       " \"It's Complicated\",\n",
       " \"It's Kind of a Funny Story\",\n",
       " \"It's a Wonderful Afterlife\",\n",
       " \"Jennifer's Body\",\n",
       " \"Jesus' Son\",\n",
       " 'Joe Dirt',\n",
       " 'Josie and the Pussycats',\n",
       " 'Julie & Julia',\n",
       " 'Jupiter Ascending',\n",
       " 'Just Wright',\n",
       " 'K-19: The Widowmaker',\n",
       " 'Kama Sutra - A Tale of Love',\n",
       " 'Katy Perry: Part of Me',\n",
       " 'Kit Kittredge: An American Girl',\n",
       " 'Kung Fu Panda 2',\n",
       " 'Kung Fu Panda 3',\n",
       " 'L!fe Happens',\n",
       " 'LOL',\n",
       " 'Lies in Plain Sight',\n",
       " 'Little Miss Sunshine',\n",
       " 'Little Women',\n",
       " 'Lords of Dogtown',\n",
       " 'Loser',\n",
       " 'Lost in Translation',\n",
       " 'Love & Basketball',\n",
       " 'Love Letters',\n",
       " 'Love and Other Catastrophes',\n",
       " 'Love the Coopers',\n",
       " 'Lovely & Amazing',\n",
       " 'Loving Annabelle',\n",
       " 'Lucky Numbers',\n",
       " 'Mad Hot Ballroom',\n",
       " 'Mad Money',\n",
       " 'Mamma Mia!',\n",
       " 'Marie Antoinette',\n",
       " 'McFarland, USA',\n",
       " 'Me Before You',\n",
       " 'Me and You and Everyone We Know',\n",
       " \"Meek's Cutoff\",\n",
       " 'Middle of Nowhere',\n",
       " 'Miracles from Heaven',\n",
       " 'Miss Julie',\n",
       " 'Money Monster',\n",
       " 'Monsoon Wedding',\n",
       " 'Monster',\n",
       " 'Morvern Callar',\n",
       " 'Motherhood',\n",
       " 'Movie 43',\n",
       " \"My Baby's Daddy\",\n",
       " 'My Dog Tulip',\n",
       " 'My Life Without Me',\n",
       " 'My Lucky Star',\n",
       " 'Nanny McPhee and the Big Bang',\n",
       " 'Naturally Native',\n",
       " 'New York Minute',\n",
       " \"Nim's Island\",\n",
       " 'North Country',\n",
       " 'Nowhere Boy',\n",
       " 'Nowhere in Africa',\n",
       " 'Obvious Child',\n",
       " 'Old Joy',\n",
       " 'On the Outs',\n",
       " 'One Day',\n",
       " 'One for the Money',\n",
       " 'Orgazmo',\n",
       " 'Oscar and Lucinda',\n",
       " 'Our Kind of Traitor',\n",
       " 'Palo Alto',\n",
       " \"Paris, je t'aime\",\n",
       " 'Pay It Forward',\n",
       " 'Peeples',\n",
       " 'Persepolis',\n",
       " 'Pet Sematary',\n",
       " 'Phat Girlz',\n",
       " 'Pink Ribbons, Inc.',\n",
       " 'Pitch Perfect 2',\n",
       " 'Please Give',\n",
       " 'Plush',\n",
       " 'Polisse',\n",
       " 'Post Grad',\n",
       " 'Proud',\n",
       " 'Punisher: War Zone',\n",
       " 'Ramona and Beezus',\n",
       " 'Ravenous',\n",
       " 'Real Women Have Curves',\n",
       " 'Red Riding Hood',\n",
       " 'Renaissance Man',\n",
       " 'Return to Me',\n",
       " 'Riding in Cars with Boys',\n",
       " \"Ripley's Game\",\n",
       " 'Saving Face',\n",
       " 'Seeking a Friend for the End of the World',\n",
       " 'Selma',\n",
       " 'Shark Tale',\n",
       " 'Sherrybaby',\n",
       " 'Shrek',\n",
       " 'Silent House',\n",
       " 'Sisters in Law',\n",
       " 'Slums of Beverly Hills',\n",
       " \"Something's Gotta Give\",\n",
       " 'Somewhere',\n",
       " 'Song One',\n",
       " 'Songcatcher',\n",
       " 'Speed Racer',\n",
       " 'Step Up',\n",
       " 'Stick It',\n",
       " 'Stop-Loss',\n",
       " 'Strangerland',\n",
       " 'Subconscious',\n",
       " 'Sugar Town',\n",
       " 'Sunday School Musical',\n",
       " 'Sunshine Cleaning',\n",
       " 'Super Mario Bros.',\n",
       " 'Take the Lead',\n",
       " 'Tank Girl',\n",
       " 'Tanner Hall',\n",
       " 'The 33',\n",
       " 'The Amazing Catfish',\n",
       " 'The Ballad of Jack and Rose',\n",
       " 'The Beaver',\n",
       " 'The Blue Butterfly',\n",
       " 'The Brass Teapot',\n",
       " 'The Bridge of San Luis Rey',\n",
       " \"The Caveman's Valentine\",\n",
       " 'The Dead Girl',\n",
       " 'The Diary of a Teenage Girl',\n",
       " 'The Extra Man',\n",
       " 'The Greatest',\n",
       " 'The Guilt Trip',\n",
       " 'The Guru',\n",
       " 'The Holiday',\n",
       " 'The Holy Girl',\n",
       " 'The Hurt Locker',\n",
       " 'The In Crowd',\n",
       " 'The Incredibly True Adventure of Two Girls In Love',\n",
       " 'The Intern',\n",
       " 'The Iron Lady',\n",
       " 'The Kids Are All Right',\n",
       " 'The Last Song',\n",
       " 'The Matrix',\n",
       " 'The Matrix Reloaded',\n",
       " 'The Matrix Revolutions',\n",
       " 'The Mirror Has Two Faces',\n",
       " 'The Namesake',\n",
       " 'The Nativity Story',\n",
       " 'The Peacemaker',\n",
       " 'The Perez Family',\n",
       " 'The Piano',\n",
       " 'The Prince & Me',\n",
       " 'The Prince of Egypt',\n",
       " 'The Prince of Tides',\n",
       " 'The Producers',\n",
       " 'The Proposal',\n",
       " 'The Quiet',\n",
       " 'The Rage: Carrie 2',\n",
       " 'The Runaways',\n",
       " 'The Savages',\n",
       " 'The Second Mother',\n",
       " 'The Secret Life of Bees',\n",
       " 'The Secret of Kells',\n",
       " 'The Sisterhood of Night',\n",
       " 'The Sisterhood of the Traveling Pants 2',\n",
       " 'The Sleepwalker',\n",
       " 'The Square',\n",
       " 'The Sticky Fingers of Time',\n",
       " 'The Tempest',\n",
       " 'The Tigger Movie',\n",
       " 'The To Do List',\n",
       " 'The Trials Of Darryl Hunt',\n",
       " 'The Virgin Suicides',\n",
       " 'The Wedding Date',\n",
       " 'The Wild Thornberrys Movie',\n",
       " 'The Women',\n",
       " 'The Young Unknowns',\n",
       " \"There's Always Woodstock\",\n",
       " 'They Will Have to Kill Us First',\n",
       " 'Things We Lost in the Fire',\n",
       " 'Thirteen',\n",
       " 'Thirteen Conversations About One Thing',\n",
       " 'Tiny Furniture',\n",
       " 'Top Spin',\n",
       " 'Treading Water',\n",
       " 'Tupac: Resurrection',\n",
       " 'Twilight',\n",
       " 'Unbroken',\n",
       " 'Under the Same Moon',\n",
       " 'Under the Tuscan Sun',\n",
       " 'Vamps',\n",
       " 'Vanity Fair',\n",
       " 'Veronika Decides to Die',\n",
       " 'Waitress',\n",
       " 'Walking and Talking',\n",
       " 'Walter',\n",
       " 'Water',\n",
       " \"Wayne's World\",\n",
       " 'We Need to Talk About Kevin',\n",
       " 'Wendy and Lucy',\n",
       " 'Whale Rider',\n",
       " 'What Women Want',\n",
       " 'What a Girl Wants',\n",
       " 'What the #$*! Do We (K)now!?',\n",
       " 'Whip It',\n",
       " 'Windsor Drive',\n",
       " \"Winter's Bone\",\n",
       " 'Without Men',\n",
       " 'Woman on Top',\n",
       " 'Woo',\n",
       " 'Wuthering Heights',\n",
       " 'Yentl',\n",
       " 'Yes',\n",
       " \"You've Got Mail\",\n",
       " \"Your Sister's Sister\",\n",
       " 'Zero Dark Thirty',\n",
       " 'Zipper',\n",
       " 'Æon Flux']"
      ]
     },
     "execution_count": 77,
     "metadata": {},
     "output_type": "execute_result"
    }
   ],
   "source": [
    "lst_movies"
   ]
  },
  {
   "cell_type": "markdown",
   "metadata": {},
   "source": [
    "<a id='conclusions'></a>\n",
    "## Conclusions"
   ]
  },
  {
   "cell_type": "markdown",
   "metadata": {},
   "source": [
    "I discover that the most populars genres is Drama, History and War.\n",
    "\n",
    "The Drama genre is most frequent and History and War is related with the best vote averages. Curiously, horror genre is worst rated but not the less frequent.\n",
    "\n",
    "About budget and revenue averages for all movies, the revenue is approximately 53 milions  higher than budget.\n",
    "\n",
    "There are much more producers involved with low-budget films.\n",
    "\n",
    "Looking the percentiles of movies with have website, the popularity and votes averages is higher than movies that don't have websites.\n",
    "\n",
    "Movies with runtime higher than average have 0.42 votes higher than low runtime movies.\n",
    "\n",
    "The keyword 'woman director' is present in more than 300 movies. I created a list of these films for those interested in watching. Congratulations to the women's."
   ]
  },
  {
   "cell_type": "markdown",
   "metadata": {},
   "source": [
    "### Limitations"
   ]
  },
  {
   "cell_type": "markdown",
   "metadata": {},
   "source": [
    "In Data Wrangling section, JSON content was a limiter because its necessary decode,preparate and separate the data. On the other hand, JSON was necessary to ensure unique movies in each row. I expected to find 5000 rows in dataset, but found 4803 with some null values. At the end of cleaning, 4801 rows reamained because I fill values on fields with many null values to not lose more movies. In the original_language field have a strange data lik 'xx' and I remove because not finda the meaning.\n",
    "\n",
    "In EDA section, fields like average votes and popularity are not updated, so this analysis don't show the real status of this fields in TMDB website. In the runtime it was necessary fill two null values with geral average."
   ]
  }
 ],
 "metadata": {
  "kernelspec": {
   "display_name": "Python 3",
   "language": "python",
   "name": "python3"
  },
  "language_info": {
   "codemirror_mode": {
    "name": "ipython",
    "version": 3
   },
   "file_extension": ".py",
   "mimetype": "text/x-python",
   "name": "python",
   "nbconvert_exporter": "python",
   "pygments_lexer": "ipython3",
   "version": "3.8.3"
  }
 },
 "nbformat": 4,
 "nbformat_minor": 2
}
